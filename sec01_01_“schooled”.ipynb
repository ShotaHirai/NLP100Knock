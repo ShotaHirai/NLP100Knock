{
 "cells": [
  {
   "cell_type": "code",
   "execution_count": 1,
   "id": "c83dd444",
   "metadata": {},
   "outputs": [],
   "source": [
    "Str = \"schooled\"\n",
    "new_str_list = list(Str)"
   ]
  },
  {
   "cell_type": "code",
   "execution_count": null,
   "id": "c191ee21",
   "metadata": {},
   "outputs": [],
   "source": [
    "Ans_list = []\n",
    "for i in range(1,7,2):\n",
    "    Ans_list.append(new_str_list[i])\n",
    "Ans ="
   ]
  }
 ],
 "metadata": {
  "kernelspec": {
   "display_name": "Python 3 (ipykernel)",
   "language": "python",
   "name": "python3"
  },
  "language_info": {
   "codemirror_mode": {
    "name": "ipython",
    "version": 3
   },
   "file_extension": ".py",
   "mimetype": "text/x-python",
   "name": "python",
   "nbconvert_exporter": "python",
   "pygments_lexer": "ipython3",
   "version": "3.9.7"
  }
 },
 "nbformat": 4,
 "nbformat_minor": 5
}
