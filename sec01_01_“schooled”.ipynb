{
 "cells": [
  {
   "cell_type": "code",
   "execution_count": 1,
   "id": "53b7f8ac",
   "metadata": {},
   "outputs": [],
   "source": [
    "Str = \"schooled\"\n",
    "new_str_list = list(Str)"
   ]
  },
  {
   "cell_type": "code",
   "execution_count": 3,
   "id": "79e29845",
   "metadata": {},
   "outputs": [
    {
     "name": "stdout",
     "output_type": "stream",
     "text": [
      "shoe\n"
     ]
    }
   ],
   "source": [
    "Ans_list = []\n",
    "for i in range(0,7,2):\n",
    "    Ans_list.append(new_str_list[i])\n",
    "Ans = \"\".join(list(Ans_list))\n",
    "print(Ans)"
   ]
  },
  {
   "cell_type": "code",
   "execution_count": null,
   "id": "01db0a13",
   "metadata": {},
   "outputs": [],
   "source": []
  }
 ],
 "metadata": {
  "kernelspec": {
   "display_name": "Python 3 (ipykernel)",
   "language": "python",
   "name": "python3"
  },
  "language_info": {
   "codemirror_mode": {
    "name": "ipython",
    "version": 3
   },
   "file_extension": ".py",
   "mimetype": "text/x-python",
   "name": "python",
   "nbconvert_exporter": "python",
   "pygments_lexer": "ipython3",
   "version": "3.9.7"
  }
 },
 "nbformat": 4,
 "nbformat_minor": 5
}
