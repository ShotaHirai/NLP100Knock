{
 "cells": [
  {
   "cell_type": "code",
   "execution_count": 1,
   "id": "da635842",
   "metadata": {},
   "outputs": [],
   "source": [
    "import json\n",
    "import re"
   ]
  },
  {
   "cell_type": "code",
   "execution_count": 8,
   "id": "7d193c31",
   "metadata": {},
   "outputs": [
    {
     "name": "stdout",
     "output_type": "stream",
     "text": [
      "イギリス\n",
      "イギリス連邦加盟国\n",
      "英連邦王国\n",
      "G8加盟国\n",
      "欧州連合加盟国|元\n",
      "海洋国家\n",
      "現存する君主国\n",
      "島国\n",
      "1801年に成立した国家・領域\n"
     ]
    }
   ],
   "source": [
    "f = open(\"jawiki-country.json\", \"r\")\n",
    "for i in f:\n",
    "    df = json.loads(i)\n",
    "    if df[\"title\"]==\"イギリス\":\n",
    "        Britain = df\n",
    "\n",
    "text = Britain[\"text\"]\n",
    "\n",
    "#print(text)\n",
    "\n",
    "line_list = text.split(\"\\n\")\n",
    "\n",
    "\n",
    "category_list = list()\n",
    "for i in line_list:\n",
    "    if re.search(\"Category\", i):\n",
    "        if not \"{{\" in i :\n",
    "            category = i\n",
    "            category_list.append(category)\n",
    "for i in category_list:\n",
    "    category_name = re.sub(r\"\\[\\[Category:\", \"\", i)\n",
    "    category_name = re.sub(r\"\\]\", \"\", category_name)\n",
    "    category_name = re.sub(r\"\\|\\*\", \"\", category_name)\n",
    "    print(category_name)"
   ]
  },
  {
   "cell_type": "code",
   "execution_count": null,
   "id": "40ffe851",
   "metadata": {},
   "outputs": [],
   "source": []
  }
 ],
 "metadata": {
  "kernelspec": {
   "display_name": "Python 3 (ipykernel)",
   "language": "python",
   "name": "python3"
  },
  "language_info": {
   "codemirror_mode": {
    "name": "ipython",
    "version": 3
   },
   "file_extension": ".py",
   "mimetype": "text/x-python",
   "name": "python",
   "nbconvert_exporter": "python",
   "pygments_lexer": "ipython3",
   "version": "3.9.7"
  }
 },
 "nbformat": 4,
 "nbformat_minor": 5
}
