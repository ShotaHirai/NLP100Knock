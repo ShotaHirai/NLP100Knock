{
 "cells": [
  {
   "cell_type": "markdown",
   "id": "3244f388",
   "metadata": {},
   "source": [
    "# 第6章: 機械学習\n",
    "本章では，Fabio Gasparetti氏が公開しているNews Aggregator Data Setを用い，ニュース記事の見出しを「ビジネス」「科学技術」「エンターテイメント」「健康」のカテゴリに分類するタスク（カテゴリ分類）に取り組む．"
   ]
  },
  {
   "cell_type": "markdown",
   "id": "42be0c99",
   "metadata": {},
   "source": [
    "## 50. データの入手・整形\n",
    "News Aggregator Data Setをダウンロードし、以下の要領で学習データ（train.txt），検証データ（valid.txt），評価データ（test.txt）を作成せよ．\n",
    "\n",
    "ダウンロードしたzipファイルを解凍し，readme.txtの説明を読む．\n",
    "情報源（publisher）が”Reuters”, “Huffington Post”, “Businessweek”, “Contactmusic.com”, “Daily Mail”の事例（記事）のみを抽出する．\n",
    "抽出された事例をランダムに並び替える．\n",
    "抽出された事例の80%を学習データ，残りの10%ずつを検証データと評価データに分割し，それぞれtrain.txt，valid.txt，test.txtというファイル名で保存する．ファイルには，１行に１事例を書き出すこととし，カテゴリ名と記事見出しのタブ区切り形式とせよ（このファイルは後に問題70で再利用する）．\n",
    "学習データと評価データを作成したら，各カテゴリの事例数を確認せよ．"
   ]
  },
  {
   "cell_type": "markdown",
   "id": "e92b2125",
   "metadata": {},
   "source": [
    "FORMAT: ID \\t TITLE \\t URL \\t PUBLISHER \\t CATEGORY \\t STORY \\t HOSTNAME \\t TIMESTAMP"
   ]
  },
  {
   "cell_type": "code",
   "execution_count": 65,
   "id": "d4510647",
   "metadata": {},
   "outputs": [],
   "source": [
    "import pandas as pd\n",
    "from sklearn.model_selection import train_test_split"
   ]
  },
  {
   "cell_type": "code",
   "execution_count": 68,
   "id": "47e63f30",
   "metadata": {},
   "outputs": [],
   "source": [
    "df = pd.read_csv(\"data/NewsAggregatorDataset/newsCorpora.csv\", sep=\"\\t\",header=None)\n",
    "feature = [\"ID\", \"TITLE\", \"URL\", \"PUBLISHER\", \"CATEGORY\", \"STORY\", \"HOSTNAME\", \"TIMESTAMP\"]\n",
    "df.columns = feature\n",
    "pub = [\"Huffington Post\", \"Businessweek\", \"Contactmusic.com\", \"Daily Mail\"]\n",
    "# 記事の抽出\n",
    "df = df[df.PUBLISHER.isin(pub)]\n",
    "\n",
    "df_target = df.loc[:,[\"TITLE\", \"CATEGORY\"]]\n",
    "test, train = train_test_split(df_target, test_size=0.8, shuffle=True, stratify=df_target.CATEGORY, random_state=20)\n",
    "test, valid = train_test_split(test, test_size=0.5, shuffle=True, stratify=test.CATEGORY, random_state=20)"
   ]
  },
  {
   "cell_type": "code",
   "execution_count": 71,
   "id": "9dbb6dc7",
   "metadata": {},
   "outputs": [
    {
     "data": {
      "text/plain": [
       "e    4076\n",
       "b    1976\n",
       "t     919\n",
       "m     580\n",
       "Name: CATEGORY, dtype: int64"
      ]
     },
     "execution_count": 71,
     "metadata": {},
     "output_type": "execute_result"
    }
   ],
   "source": [
    "train.CATEGORY.value_counts()"
   ]
  },
  {
   "cell_type": "code",
   "execution_count": 72,
   "id": "9ab840a6",
   "metadata": {},
   "outputs": [
    {
     "data": {
      "text/plain": [
       "e    510\n",
       "b    247\n",
       "t    115\n",
       "m     72\n",
       "Name: CATEGORY, dtype: int64"
      ]
     },
     "execution_count": 72,
     "metadata": {},
     "output_type": "execute_result"
    }
   ],
   "source": [
    "valid.CATEGORY.value_counts()"
   ]
  },
  {
   "cell_type": "code",
   "execution_count": 73,
   "id": "e7178b54",
   "metadata": {},
   "outputs": [
    {
     "data": {
      "text/plain": [
       "e    509\n",
       "b    247\n",
       "t    114\n",
       "m     73\n",
       "Name: CATEGORY, dtype: int64"
      ]
     },
     "execution_count": 73,
     "metadata": {},
     "output_type": "execute_result"
    }
   ],
   "source": [
    "test.CATEGORY.value_counts()"
   ]
  },
  {
   "cell_type": "code",
   "execution_count": 74,
   "id": "c813b294",
   "metadata": {},
   "outputs": [],
   "source": [
    "train.to_csv(\"data/train.txt\",sep=\"\\t\",header=None,index=None)\n",
    "test.to_csv(\"data/test.txt\",sep=\"\\t\",header=None,index=None)\n",
    "valid.to_csv(\"data/valid.txt\",sep=\"\\t\",header=None,index=None)"
   ]
  },
  {
   "cell_type": "markdown",
   "id": "cd322bc1",
   "metadata": {},
   "source": [
    "## 51. 特徴量抽出\n",
    "学習データ，検証データ，評価データから特徴量を抽出し，それぞれtrain.feature.txt，valid.feature.txt，test.feature.txtというファイル名で保存せよ． なお，カテゴリ分類に有用そうな特徴量は各自で自由に設計せよ．記事の見出しを単語列に変換したものが最低限のベースラインとなるであろう．"
   ]
  },
  {
   "cell_type": "code",
   "execution_count": 99,
   "id": "ad65af7b",
   "metadata": {},
   "outputs": [],
   "source": [
    "from sklearn.feature_extraction.text import CountVectorizer\n",
    "import joblib"
   ]
  },
  {
   "cell_type": "code",
   "execution_count": 101,
   "id": "53303828",
   "metadata": {},
   "outputs": [],
   "source": [
    "X_train = pd.read_table(\"data/train.txt\", header=None)\n",
    "X_valid = pd.read_table(\"data/valid.txt\", header=None)\n",
    "X_test = pd.read_table(\"data/test.txt\", header=None)\n",
    "Column = [\"TITLE\", \"CATEGORY\"]\n",
    "X_train.columns = Column\n",
    "X_valid.columns = Column\n",
    "X_test.columns = Column\n",
    "X_train[\"TMP\"] = \"train\"\n",
    "X_valid[\"TMP\"] = \"valid\"\n",
    "X_test[\"TMP\"] = \"test\"\n",
    "\n",
    "# 特徴抽出を一括する\n",
    "data = pd.concat([X_train, X_valid, X_test]).reset_index(drop=True)\n",
    "\n",
    "# 一文字の単語を省かないためのpattern\n",
    "vectorizer = CountVectorizer(token_pattern=u'(?u)\\\\b\\\\w+\\\\b')\n",
    "bag = vectorizer.fit_transform(data[\"TITLE\"])\n",
    "\n",
    "# toarrayで特徴量ベクトルに変換(出現頻度)\n",
    "data = pd.concat([data, pd.DataFrame(bag.toarray())], axis=1)\n",
    "\n",
    "# 保存\n",
    "joblib.dump(vectorizer.vocabulary_, \"data/vocabulary\")\n",
    "\n",
    "# TMPが~の部分を抜き出して余計なものを排除してから保存\n",
    "X_train = data.query('TMP==\"train\"').drop(Column + [\"TMP\"], axis=1)\n",
    "X_valid = data.query('TMP==\"valid\"').drop(Column + [\"TMP\"], axis=1)\n",
    "X_test = data.query('TMP==\"test\"').drop(Column + [\"TMP\"], axis=1)\n",
    "\n",
    "X_train.to_csv(\"data/train.feature.txt\", sep=\"\\t\", index=False, header=None)\n",
    "X_valid.to_csv(\"data/valid.feature.txt\", sep=\"\\t\", index=False, header=None)\n",
    "X_test.to_csv(\"data/test.feature.txt\", sep=\"\\t\", index=False, header=None)"
   ]
  },
  {
   "cell_type": "markdown",
   "id": "c46a396e",
   "metadata": {},
   "source": [
    "## 52. 学習\n",
    "51で構築した学習データを用いて，ロジスティック回帰モデルを学習せよ．"
   ]
  },
  {
   "cell_type": "code",
   "execution_count": 128,
   "id": "179ed7b6",
   "metadata": {},
   "outputs": [],
   "source": [
    "from sklearn.linear_model import LogisticRegression"
   ]
  },
  {
   "cell_type": "code",
   "execution_count": 129,
   "id": "e3e34fbd",
   "metadata": {},
   "outputs": [
    {
     "data": {
      "text/plain": [
       "['data/model.joblib']"
      ]
     },
     "execution_count": 129,
     "metadata": {},
     "output_type": "execute_result"
    }
   ],
   "source": [
    "X_train = pd.read_table(\"data/train.feature.txt\", header=None)\n",
    "Y_train = pd.read_table(\"data/train.txt\", header=None)[1] # CATEGORYの行\n",
    "\n",
    "# penaltyは過学習を防ぐためのもの l1, l2など default l2\n",
    "# l1はデータの特徴量を削減して識別境界線の一般化を図る\n",
    "# l2はデータ全体の重みを減少させることで識別境界線の一般化を図る\n",
    "\n",
    "# solver\n",
    "\"\"\"\n",
    "'newton-cg'、'lbfgs'、'liblinear'、'sag'、'saga'のうちから選択される。\n",
    "デフォルトは'lbfgs'。小さなデータセットには'liblnear'が適し、大きなデータセットに対しては'sag'、'saga'の計算が速い。\n",
    "複数クラスの問題には、'newton-cg'、'sag'、'saga'、'lbfgs'が対応し、'liblinear'は一対他しか対応しない。\n",
    "その他ノルムの種類とソルバーの対応。\n",
    "\"\"\"\n",
    "\n",
    "classifier = LogisticRegression(penalty=\"l2\", solver=\"sag\", random_state=20, max_iter=1000)\n",
    "classifier.fit(X_train, Y_train)\n",
    "joblib.dump(classifier, \"data/model.joblib\")"
   ]
  },
  {
   "cell_type": "code",
   "execution_count": 130,
   "id": "0ed7415f",
   "metadata": {},
   "outputs": [
    {
     "data": {
      "text/plain": [
       "0.9957621507085155"
      ]
     },
     "execution_count": 130,
     "metadata": {},
     "output_type": "execute_result"
    }
   ],
   "source": [
    "classifier.score(X_train, Y_train)"
   ]
  },
  {
   "cell_type": "markdown",
   "id": "56b248a6",
   "metadata": {},
   "source": [
    "## 53. 予測\n",
    "52で学習したロジスティック回帰モデルを用い，与えられた記事見出しからカテゴリとその予測確率を計算するプログラムを実装せよ．"
   ]
  },
  {
   "cell_type": "code",
   "execution_count": 131,
   "id": "9146c223",
   "metadata": {},
   "outputs": [],
   "source": [
    "def prop(X_test):\n",
    "    Y_test = classifier.predict(X_test)\n",
    "    return Y_test\n",
    "\n",
    "X_test = pd.read_table(\"data/test.feature.txt\", header=None)\n",
    "Y_test = prop(X_test)"
   ]
  },
  {
   "cell_type": "markdown",
   "id": "eb493760",
   "metadata": {},
   "source": [
    "## 54. 正解率の計測\n",
    "2で学習したロジスティック回帰モデルの正解率を，学習データおよび評価データ上で計測せよ．"
   ]
  },
  {
   "cell_type": "code",
   "execution_count": 132,
   "id": "52865198",
   "metadata": {},
   "outputs": [
    {
     "name": "stdout",
     "output_type": "stream",
     "text": [
      "train acc: 0.9957621507085155\n",
      "test acc: 0.8918345705196182\n"
     ]
    }
   ],
   "source": [
    "from sklearn.metrics import accuracy_score\n",
    "\n",
    "X_train = pd.read_table(\"data/train.feature.txt\", header=None)\n",
    "X_test = pd.read_table(\"data/test.feature.txt\", header=None)\n",
    "Y_train = pd.read_table(\"data/train.txt\", header=None)[1]\n",
    "Y_test = pd.read_table(\"data/test.txt\", header=None)[1]\n",
    "\n",
    "print(\"train acc: {}\".format(accuracy_score(Y_train, classifier.predict(X_train))))\n",
    "print(\"test acc: {}\".format(accuracy_score(Y_test, classifier.predict(X_test))))"
   ]
  },
  {
   "cell_type": "markdown",
   "id": "ca20fdb3",
   "metadata": {},
   "source": [
    "## 55. 混同行列の作成\n",
    "52で学習したロジスティック回帰モデルの混同行列（confusion matrix）を，学習データおよび評価データ上で作成せよ．"
   ]
  },
  {
   "cell_type": "code",
   "execution_count": 133,
   "id": "3908f7e0",
   "metadata": {},
   "outputs": [
    {
     "name": "stdout",
     "output_type": "stream",
     "text": [
      "train confusion matrix:\n",
      " [[1970    2    0    4]\n",
      " [   1 4074    0    1]\n",
      " [   1    4  575    0]\n",
      " [   9   10    0  900]]\n",
      "test confusion matrix:\n",
      " [[215  23   2   7]\n",
      " [  7 499   2   1]\n",
      " [  7  14  48   4]\n",
      " [ 18  15   2  79]]\n"
     ]
    }
   ],
   "source": [
    "from sklearn.metrics import confusion_matrix\n",
    "\n",
    "print(\"train confusion matrix:\\n {}\".format(confusion_matrix(Y_train, classifier.predict(X_train))))\n",
    "print(\"test confusion matrix:\\n {}\".format(confusion_matrix(Y_test, classifier.predict(X_test))))"
   ]
  },
  {
   "cell_type": "markdown",
   "id": "88ebec57",
   "metadata": {},
   "source": [
    "## 56. 適合率，再現率，F1スコアの計測\n",
    "52で学習したロジスティック回帰モデルの適合率，再現率，F1スコアを，評価データ上で計測せよ．カテゴリごとに適合率，再現率，F1スコアを求め，カテゴリごとの性能をマイクロ平均（micro-average）とマクロ平均（macro-average）で統合せよ．"
   ]
  },
  {
   "cell_type": "code",
   "execution_count": 134,
   "id": "01317709",
   "metadata": {},
   "outputs": [
    {
     "name": "stdout",
     "output_type": "stream",
     "text": [
      "test recall of None: [0.87044534 0.98035363 0.65753425 0.69298246]\n",
      "test recall of micro: 0.8918345705196182\n",
      "test recall of macro: 0.8003289203557128\n",
      "test precision of None: [0.87044534 0.90562613 0.88888889 0.86813187]\n",
      "test precision of micro: 0.8918345705196182\n",
      "test precision of macro: 0.8832730588628955\n",
      "test f1 of None: [0.87044534 0.94150943 0.75590551 0.77073171]\n",
      "test f1 of micro: 0.8918345705196182\n",
      "test f1 of macro: 0.8346479993049789\n"
     ]
    }
   ],
   "source": [
    "from sklearn.metrics import recall_score, precision_score, f1_score\n",
    "\n",
    "Y_pred = classifier.predict(X_test)\n",
    "\n",
    "print(\"test recall of None: {}\".format(recall_score(Y_test, Y_pred, average=None)))\n",
    "print(\"test recall of micro: {}\".format(recall_score(Y_test, Y_pred, average=\"micro\")))\n",
    "print(\"test recall of macro: {}\".format(recall_score(Y_test, Y_pred, average=\"macro\")))\n",
    "print(\"test precision of None: {}\".format(precision_score(Y_test, Y_pred, average=None)))\n",
    "print(\"test precision of micro: {}\".format(precision_score(Y_test, Y_pred, average=\"micro\")))\n",
    "print(\"test precision of macro: {}\".format(precision_score(Y_test, Y_pred, average=\"macro\")))\n",
    "print(\"test f1 of None: {}\".format(f1_score(Y_test, Y_pred, average=None)))\n",
    "print(\"test f1 of micro: {}\".format(f1_score(Y_test, Y_pred, average=\"micro\")))\n",
    "print(\"test f1 of macro: {}\".format(f1_score(Y_test, Y_pred, average=\"macro\")))"
   ]
  },
  {
   "cell_type": "markdown",
   "id": "1e49fc4c",
   "metadata": {},
   "source": [
    "## 57. 特徴量の重みの確認\n",
    "52で学習したロジスティック回帰モデルの中で，重みの高い特徴量トップ10と，重みの低い特徴量トップ10を確認せよ．"
   ]
  },
  {
   "cell_type": "code",
   "execution_count": 136,
   "id": "b30b8e5e",
   "metadata": {},
   "outputs": [
    {
     "name": "stdout",
     "output_type": "stream",
     "text": [
      "[('loved', 1.8337184688620582), ('disks', 1.7255013113238236), ('declining', 1.5917311907552358), ('mountains', 1.511455451575293), ('healthy', 1.4433241427194738), ('increase', 1.418420108038275), ('intergalactic', 1.3655449331965839), ('expecting', 1.3018426391395137), ('accompany', 1.2716661944012129), ('poll', 1.237041993279768)]\n",
      "\n",
      "[('to', 0.0), ('krona', 0.0), ('are', 0.0), ('develop', 0.0), ('newly', 0.0), ('but', 0.0), ('related', 0.0), ('asiana', 0.0), ('vs', 0.0), ('sisters', 0.0)]\n",
      "\n",
      "[('witherspoon', -1.662994035512385), ('txu', 1.5526849430111505), ('oreal', 1.4992508359363288), ('beautiful', 1.4861757791150643), ('earner', 1.4431275677560158), ('mountain', 1.4190613089141983), ('healthy', -1.308345649918812), ('slimming', 1.2839271809983), ('unilever', -1.2610354055031692), ('literally', -1.2099611686321985)]\n",
      "\n",
      "[('to', 0.0), ('krona', 0.0), ('are', 0.0), ('develop', 0.0), ('newly', 0.0), ('but', 0.0), ('related', 0.0), ('asiana', 0.0), ('vs', 0.0), ('sisters', 0.0)]\n",
      "\n",
      "[('separating', 2.4400062141549412), ('motivated', 2.2580588426068267), ('lease', 1.8654028038732546), ('nsa', 1.7335078887930282), ('lands', 1.7310805559052103), ('falcon', 1.6110278751740643), ('emmy', 1.4779334605190848), ('targeted', 1.4515597358273995), ('australian', 1.3678159568978294), ('insane', 1.3365487684972432)]\n",
      "\n",
      "[('to', 0.0), ('krona', 0.0), ('are', 0.0), ('develop', 0.0), ('newly', 0.0), ('but', 0.0), ('related', 0.0), ('asiana', 0.0), ('vs', 0.0), ('sisters', 0.0)]\n",
      "\n",
      "[('witherspoon', 2.603107615040776), ('unilever', 2.536151670509415), ('quit', 2.423605077531362), ('jan', 2.3637884321359053), ('again', 2.263561095514326), ('clown', 1.7247654547778282), ('blasted', 1.5549461600908854), ('therapists', 1.5120819111173212), ('foxconn', 1.4908863832402341), ('klier', 1.4617304350739257)]\n",
      "\n",
      "[('to', 0.0), ('krona', 0.0), ('are', 0.0), ('develop', 0.0), ('newly', 0.0), ('but', 0.0), ('related', 0.0), ('asiana', 0.0), ('vs', 0.0), ('sisters', 0.0)]\n",
      "\n"
     ]
    }
   ],
   "source": [
    "vocabulary_ = vectorizer.vocabulary_\n",
    "coefs = classifier.coef_\n",
    "\n",
    "for i in coefs:\n",
    "    d = dict(zip(vocabulary_, i))\n",
    "    d_top = sorted(d.items(), key=lambda x: abs(x[1]), reverse=True)[:10] # 二番目の重みでsort\n",
    "    print(d_top)\n",
    "    print()\n",
    "    d_bottom = sorted(d.items(), key=lambda x: abs(x[1]), reverse=False)[:10]\n",
    "    print(d_bottom)\n",
    "    print()"
   ]
  },
  {
   "cell_type": "markdown",
   "id": "a05a6e72",
   "metadata": {},
   "source": [
    "## 58. 正則化パラメータの変更\n",
    "ロジスティック回帰モデルを学習するとき，正則化パラメータを調整することで，学習時の過学習（overfitting）の度合いを制御できる．異なる正則化パラメータでロジスティック回帰モデルを学習し，学習データ，検証データ，および評価データ上の正解率を求めよ．実験の結果は，正則化パラメータを横軸，正解率を縦軸としたグラフにまとめよ．"
   ]
  },
  {
   "cell_type": "code",
   "execution_count": null,
   "id": "de7ad2d4",
   "metadata": {},
   "outputs": [],
   "source": [
    "# Cパラメータ: モデルが学習する識別境界線が教師データの分類間違いに対してどれくらい厳しくするのかという指標 default:1.0\n",
    "\n",
    "from sklearn.linear_model import LogisticRegression\n",
    "from sklearn.metrics import accuracy_score\n",
    "import matplotlib.pyplot as plt\n",
    "\n",
    "X_train = pd.read_table(\"data/train.feature.txt\", header=None)\n",
    "X_test = pd.read_table(\"data/test.feature.txt\", header=None)\n",
    "X_valid = pd.read_table(\"data/valid.feature.txt\", header=None)\n",
    "Y_train = pd.read_table(\"data/train.txt\", header=None)[1]\n",
    "Y_test = pd.read_table(\"data/test.txt\", header=None)[1]\n",
    "Y_valid = pd.read_table(\"data/valid.txt\", header=None)[1]\n",
    "\n",
    "C_list = [0.1, 1.0, 10, 100]\n",
    "train_acc = []\n",
    "valid_acc = []\n",
    "test_acc = []\n",
    "\n",
    "for c in C_list:\n",
    "    classifier = LogisticRegression(penalty=\"l2\", solver=\"sag\", random_state=20, C=c)\n",
    "    classifier.fit(X_train, Y_train)\n",
    "    train_acc.append(accuracy_score(Y_train, classifier.predict(X_train)))\n",
    "    valid_acc.append(accuracy_score(Y_valid, classifier.predict(X_valid)))\n",
    "    test_acc.append(accuracy_score(Y_test, classifier.predict(X_test)))"
   ]
  },
  {
   "cell_type": "code",
   "execution_count": 120,
   "id": "00f97c9f",
   "metadata": {},
   "outputs": [
    {
     "data": {
      "image/png": "[encoded data removed]",
      "text/plain": [
       "<Figure size 432x288 with 1 Axes>"
      ]
     },
     "metadata": {
      "needs_background": "light"
     },
     "output_type": "display_data"
    }
   ],
   "source": [
    "plt.plot(C_list, train_acc, label=\"train_acc\")\n",
    "plt.plot(C_list, valid_acc, label=\"valid_acc\")\n",
    "plt.plot(C_list, test_acc, label=\"test_acc\")\n",
    "plt.legend()\n",
    "plt.show()"
   ]
  },
  {
   "cell_type": "markdown",
   "id": "48e7fe11",
   "metadata": {},
   "source": [
    "## 59. ハイパーパラメータの探索\n",
    "学習アルゴリズムや学習パラメータを変えながら，カテゴリ分類モデルを学習せよ．検証データ上の正解率が最も高くなる学習アルゴリズム・パラメータを求めよ．また，その学習アルゴリズム・パラメータを用いたときの評価データ上の正解率を求めよ．"
   ]
  },
  {
   "cell_type": "code",
   "execution_count": 123,
   "id": "01a7a50b",
   "metadata": {},
   "outputs": [],
   "source": [
    "from sklearn.ensemble import RandomForestClassifier as RFC"
   ]
  },
  {
   "cell_type": "code",
   "execution_count": 124,
   "id": "199f04bb",
   "metadata": {},
   "outputs": [
    {
     "name": "stdout",
     "output_type": "stream",
     "text": [
      "LR C=10\n"
     ]
    }
   ],
   "source": [
    "# test_accは58のものが最初から入ってる\n",
    "\n",
    "# max_depth木の深さ default:None 伸び放題\n",
    "max_depth_list = [2, 4, 8, 16]\n",
    "for m in max_depth_list:\n",
    "    classifier = RFC(max_depth=m, random_state=20)\n",
    "    classifier.fit(X_train, Y_train)\n",
    "    test_acc.append(accuracy_score(Y_test, classifier.predict(X_test)))\n",
    "    \n",
    "best_index = test_acc.index(max(test_acc))\n",
    "if best_index < 4:\n",
    "    BestAlgorithm = \"LR\"\n",
    "    BestParam = \"C={}\".format(C_list[best_index])\n",
    "else:\n",
    "    BestAlgorithm = \"RFC\"\n",
    "    BestParam = \"C={}\".format(C_list[best_index])\n",
    "    \n",
    "print(BestAlgorithm, BestParam)"
   ]
  },
  {
   "cell_type": "code",
   "execution_count": 125,
   "id": "26db2217",
   "metadata": {},
   "outputs": [
    {
     "name": "stdout",
     "output_type": "stream",
     "text": [
      "0.5853658536585366\n"
     ]
    }
   ],
   "source": [
    "print(accuracy_score(Y_test, classifier.predict(X_test)))"
   ]
  },
  {
   "cell_type": "code",
   "execution_count": 126,
   "id": "502f92ae",
   "metadata": {},
   "outputs": [
    {
     "data": {
      "text/plain": [
       "0.8780487804878049"
      ]
     },
     "execution_count": 126,
     "metadata": {},
     "output_type": "execute_result"
    }
   ],
   "source": [
    "max(test_acc)"
   ]
  },
  {
   "cell_type": "code",
   "execution_count": null,
   "id": "0d9d9936",
   "metadata": {},
   "outputs": [],
   "source": []
  }
 ],
 "metadata": {
  "kernelspec": {
   "display_name": "Python 3 (ipykernel)",
   "language": "python",
   "name": "python3"
  },
  "language_info": {
   "codemirror_mode": {
    "name": "ipython",
    "version": 3
   },
   "file_extension": ".py",
   "mimetype": "text/x-python",
   "name": "python",
   "nbconvert_exporter": "python",
   "pygments_lexer": "ipython3",
   "version": "3.9.7"
  }
 },
 "nbformat": 4,
 "nbformat_minor": 5
}
