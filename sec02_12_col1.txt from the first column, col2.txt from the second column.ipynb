{
 "cells": [
  {
   "cell_type": "code",
   "execution_count": 1,
   "id": "c1330c34-3c83-44ea-90cf-b67ed37d2701",
   "metadata": {},
   "outputs": [],
   "source": [
    "import os"
   ]
  },
  {
   "cell_type": "code",
   "execution_count": 16,
   "id": "8d22f181-e924-4469-ab1a-b7d76c39c58c",
   "metadata": {},
   "outputs": [],
   "source": [
    "f = open(\"popular-names.txt\",\"r\")\n",
    "# 保存先ファイル\n",
    "L1 = open(\"col1.txt\", \"w\")\n",
    "L2 = open(\"col2.txt\", \"w\")\n",
    "\n",
    "file_list = f.readlines()\n",
    "line1 = file_list[0]\n",
    "line2 = file_list[1]\n",
    "line1 = line1.replace(\"\\n\", \"\")\n",
    "line2 = line2.replace(\"\\n\", \"\")\n",
    "\n",
    "# 書き込み\n",
    "L1.write(line1)\n",
    "L2.write(line2)\n",
    "\n",
    "L1.close()\n",
    "L2.close()\n",
    "f.close()"
   ]
  },
  {
   "cell_type": "code",
   "execution_count": 10,
   "id": "ca4b6b38-90fe-41db-8d49-76be824a25fc",
   "metadata": {},
   "outputs": [
    {
     "name": "stdout",
     "output_type": "stream",
     "text": [
      "Mary\tF\t7065\t1880\n"
     ]
    }
   ],
   "source": [
    "!cut -b 1- col1.txt"
   ]
  },
  {
   "cell_type": "code",
   "execution_count": 11,
   "id": "d92dfe46-6508-4c43-9a65-ac9f669cd9a0",
   "metadata": {},
   "outputs": [
    {
     "name": "stdout",
     "output_type": "stream",
     "text": [
      "Anna\tF\t2604\t1880\n"
     ]
    }
   ],
   "source": [
    "!cut -b 1- col2.txt"
   ]
  },
  {
   "cell_type": "code",
   "execution_count": null,
   "id": "8f2104e7-041f-41a0-b82b-f059e9124e19",
   "metadata": {},
   "outputs": [],
   "source": []
  }
 ],
 "metadata": {
  "kernelspec": {
   "display_name": "Python 3 (ipykernel)",
   "language": "python",
   "name": "python3"
  },
  "language_info": {
   "codemirror_mode": {
    "name": "ipython",
    "version": 3
   },
   "file_extension": ".py",
   "mimetype": "text/x-python",
   "name": "python",
   "nbconvert_exporter": "python",
   "pygments_lexer": "ipython3",
   "version": "3.9.7"
  }
 },
 "nbformat": 4,
 "nbformat_minor": 5
}
