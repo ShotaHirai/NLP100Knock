{
 "cells": [
  {
   "cell_type": "code",
   "execution_count": 1,
   "id": "297dfa6e",
   "metadata": {},
   "outputs": [],
   "source": [
    "Str = \"Hi He Lied Because Boron Could Not Oxidize Fluorine. New Nations Might Also Sign Peace Security Clause. Arthur King Can.\""
   ]
  },
  {
   "cell_type": "code",
   "execution_count": 2,
   "id": "2f3a264a",
   "metadata": {},
   "outputs": [],
   "source": [
    "number_list = [1, 5, 6, 7, 8, 9, 15, 16, 19]"
   ]
  },
  {
   "cell_type": "code",
   "execution_count": 15,
   "id": "7fe2ba12",
   "metadata": {},
   "outputs": [
    {
     "name": "stdout",
     "output_type": "stream",
     "text": [
      "{'H': 'Hi', 'He': 'He', 'Li': 'Lied', 'Be': 'Because', 'B': 'Boron', 'C': 'Could', 'N': 'Not', 'O': 'Oxidize', 'F': 'Fluorine.', 'Ne': 'New', 'Na': 'Nations', 'Mi': 'Might', 'Al': 'Also', 'Si': 'Sign', 'P': 'Peace', 'S': 'Security', 'Cl': 'Clause.', 'Ar': 'Arthur', 'K': 'King', 'Ca': 'Can.'}\n"
     ]
    }
   ],
   "source": [
    "str_list = Str.split()\n",
    "# ,を消す\n",
    "for i in range(len(str_list)):\n",
    "    if str_list[i][-1] == \",\":\n",
    "        str_list[i] = str_list[i][:-1]\n",
    "now = 0\n",
    "dictionary = {}\n",
    "# リストに入っている数字にあるものによって条件分け\n",
    "for i in range(len(str_list)):\n",
    "    if now < len(number_list) and number_list[now] == i+1:\n",
    "        now += 1\n",
    "        dictionary[str_list[i][0]] = str_list[i]\n",
    "    else:\n",
    "        dictionary[str_list[i][:2]] = str_list[i]\n",
    "    #print(i,now,dictionary)\n",
    "print(dictionary)"
   ]
  },
  {
   "cell_type": "code",
   "execution_count": null,
   "id": "2d03eace",
   "metadata": {},
   "outputs": [],
   "source": []
  }
 ],
 "metadata": {
  "kernelspec": {
   "display_name": "Python 3 (ipykernel)",
   "language": "python",
   "name": "python3"
  },
  "language_info": {
   "codemirror_mode": {
    "name": "ipython",
    "version": 3
   },
   "file_extension": ".py",
   "mimetype": "text/x-python",
   "name": "python",
   "nbconvert_exporter": "python",
   "pygments_lexer": "ipython3",
   "version": "3.9.7"
  }
 },
 "nbformat": 4,
 "nbformat_minor": 5
}
