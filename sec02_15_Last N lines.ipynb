{
 "cells": [
  {
   "cell_type": "code",
   "execution_count": 1,
   "id": "f00e09c9-9048-4541-89dd-2dbb4da169dd",
   "metadata": {},
   "outputs": [],
   "source": [
    "import os"
   ]
  },
  {
   "cell_type": "code",
   "execution_count": 16,
   "id": "93e5d5a7-329b-4068-bd72-42223393a31d",
   "metadata": {},
   "outputs": [],
   "source": [
    "def n_lines(n):\n",
    "    f = open(\"popular-names.txt\", \"r\")\n",
    "    line_list = f.readlines()\n",
    "    \n",
    "    # 改行削除\n",
    "    for i in range(len(line_list)):\n",
    "        line_list[i] = line_list[i].replace(\"\\n\", \"\")\n",
    "    # 後ろから出力\n",
    "    for i in range(n):\n",
    "        print(line_list[-n+i])"
   ]
  },
  {
   "cell_type": "code",
   "execution_count": 17,
   "id": "af35afc0-ccd7-42d4-9880-c2e3d227d584",
   "metadata": {},
   "outputs": [
    {
     "name": "stdout",
     "output_type": "stream",
     "text": [
      "Benjamin\tM\t13381\t2018\n",
      "Elijah\tM\t12886\t2018\n",
      "Lucas\tM\t12585\t2018\n",
      "Mason\tM\t12435\t2018\n",
      "Logan\tM\t12352\t2018\n"
     ]
    }
   ],
   "source": [
    "n_lines(5)"
   ]
  },
  {
   "cell_type": "code",
   "execution_count": 18,
   "id": "a1e2bc92-9736-4af7-99fd-9a0e2b633c06",
   "metadata": {},
   "outputs": [
    {
     "name": "stdout",
     "output_type": "stream",
     "text": [
      "Benjamin\tM\t13381\t2018\n",
      "Elijah\tM\t12886\t2018\n",
      "Lucas\tM\t12585\t2018\n",
      "Mason\tM\t12435\t2018\n",
      "Logan\tM\t12352\t2018"
     ]
    }
   ],
   "source": [
    "!tail -n 5 popular-names.txt"
   ]
  },
  {
   "cell_type": "code",
   "execution_count": null,
   "id": "651e0e13-57e6-451f-96f6-b71d8058daa9",
   "metadata": {},
   "outputs": [],
   "source": []
  }
 ],
 "metadata": {
  "kernelspec": {
   "display_name": "Python 3 (ipykernel)",
   "language": "python",
   "name": "python3"
  },
  "language_info": {
   "codemirror_mode": {
    "name": "ipython",
    "version": 3
   },
   "file_extension": ".py",
   "mimetype": "text/x-python",
   "name": "python",
   "nbconvert_exporter": "python",
   "pygments_lexer": "ipython3",
   "version": "3.9.7"
  }
 },
 "nbformat": 4,
 "nbformat_minor": 5
}
