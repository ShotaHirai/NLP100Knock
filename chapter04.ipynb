{
 "cells": [
  {
   "cell_type": "markdown",
   "id": "18c447c5",
   "metadata": {},
   "source": [
    "# 第4章: 形態素解析\n",
    "夏目漱石の小説『吾輩は猫である』の文章（neko.txt）をMeCabを使って形態素解析し，その結果をneko.txt.mecabというファイルに保存せよ．このファイルを用いて，以下の問に対応するプログラムを実装せよ．\n",
    "\n",
    "なお，問題37, 38, 39はmatplotlibもしくはGnuplotを用いるとよい．"
   ]
  },
  {
   "cell_type": "markdown",
   "id": "0ddf75e7",
   "metadata": {},
   "source": [
    "## 30. 形態素解析結果の読み込み\n",
    "形態素解析結果（neko.txt.mecab）を読み込むプログラムを実装せよ．ただし，各形態素は表層形（surface），基本形（base），品詞（pos），品詞細分類1（pos1）をキーとするマッピング型に格納し，1文を形態素（マッピング型）のリストとして表現せよ．第4章の残りの問題では，ここで作ったプログラムを活用せよ．"
   ]
  },
  {
   "cell_type": "code",
   "execution_count": 4,
   "id": "b660903a",
   "metadata": {},
   "outputs": [],
   "source": [
    "import MeCab\n",
    "import unidic\n",
    "import re\n",
    "from janome.tokenizer import Tokenizer"
   ]
  },
  {
   "cell_type": "code",
   "execution_count": 5,
   "id": "5fa2a934",
   "metadata": {},
   "outputs": [
    {
     "name": "stdout",
     "output_type": "stream",
     "text": [
      "sed: neko.txt: No such file or directory\r\n"
     ]
    }
   ],
   "source": [
    "! sed 's/\\r$//g' neko.txt | mecab > neko.txt.mecab"
   ]
  },
  {
   "cell_type": "code",
   "execution_count": 8,
   "id": "1f3a1d34",
   "metadata": {
    "scrolled": true
   },
   "outputs": [
    {
     "name": "stdout",
     "output_type": "stream",
     "text": [
      "[{'surface': '一', 'base': '一', 'pos': '名詞', 'pos1': '数'}, {'surface': '吾輩', 'base': '吾輩', 'pos': '名詞', 'pos1': '代名詞'}, {'surface': 'は', 'base': 'は', 'pos': '助詞', 'pos1': '係助詞'}, {'surface': '猫', 'base': '猫', 'pos': '名詞', 'pos1': '一般'}, {'surface': 'で', 'base': 'だ', 'pos': '助動詞', 'pos1': '*'}, {'surface': 'ある', 'base': 'ある', 'pos': '助動詞', 'pos1': '*'}, {'surface': '。', 'base': '。', 'pos': '記号', 'pos1': '句点'}, {'surface': '名前', 'base': '名前', 'pos': '名詞', 'pos1': '一般'}, {'surface': 'は', 'base': 'は', 'pos': '助詞', 'pos1': '係助詞'}, {'surface': 'まだ', 'base': 'まだ', 'pos': '副詞', 'pos1': '助詞類接続'}]\n"
     ]
    }
   ],
   "source": [
    "t = Tokenizer()\n",
    "\n",
    "with open(\"data/neko.txt\", \"r\") as f:\n",
    "    text = f.read()\n",
    "    \n",
    "w = open(\"neko.janome.txt\", \"w\")\n",
    "\n",
    "lines = text.split()\n",
    "\n",
    "result = list()\n",
    "\n",
    "for line in lines:\n",
    "    toklist = t.tokenize(line)\n",
    "    for l in toklist:\n",
    "        morpehene = {\n",
    "            \"surface\" : l.surface,\n",
    "            \"base\" : l.base_form,\n",
    "            \"pos\" : l.part_of_speech.split(\",\")[0],\n",
    "            \"pos1\" : l.part_of_speech.split(\",\")[1]\n",
    "            }\n",
    "        result.append(morpehene)\n",
    "print(result[:10])"
   ]
  },
  {
   "cell_type": "code",
   "execution_count": null,
   "id": "adb617d8",
   "metadata": {},
   "outputs": [],
   "source": [
    "tagger = MeCab.Tagger()\n",
    "\n",
    "with open('neco.txt', 'r') as fin:\n",
    "  text = fin.read()\n",
    "\n",
    "with open('neco.txt.mecab', 'w') as fout:\n",
    "  fout.write(tagger.parse(text))"
   ]
  },
  {
   "cell_type": "code",
   "execution_count": null,
   "id": "6ab58200",
   "metadata": {},
   "outputs": [],
   "source": [
    "f = open(\"neco.txt.mecab\", \"r\")\n",
    "df = f.read()\n",
    "sentense_list = df.split(\"\\n\")\n",
    "result = list()\n",
    "# EOSがどうやっても取り除けなくてエラー吐きまくったのでEOSを含む行を読み込まない\n",
    "for sentense in sentense_list[:-2]:\n",
    "    surface, data_str = sentense.split(\"\\t\")\n",
    "    if surface == \"\\u3000\":\n",
    "        continue\n",
    "    data = data_str.split(\",\")\n",
    "    #print(surface)\n",
    "    #print(data)\n",
    "    # 解析ミスで形態素解析ができていない単語があったのでエスケープ\n",
    "    if len(data) < 7:\n",
    "        continue\n",
    "    morpeheme = {\n",
    "        \"surface\" : surface,\n",
    "        \"base\" : data[7],\n",
    "        \"pos\" : data[0],\n",
    "        \"pos1\" : data[1]\n",
    "    }\n",
    "    #print(morpeheme)\n",
    "    #print(counter)\n",
    "    #counter += 1\n",
    "    result.append(morpeheme)\n",
    "print(result[:30])"
   ]
  },
  {
   "cell_type": "markdown",
   "id": "d4a1d6f2",
   "metadata": {},
   "source": [
    "## 31.動詞\n",
    "動詞の基本形を全て抽出せよ。"
   ]
  },
  {
   "cell_type": "code",
   "execution_count": 9,
   "id": "2c970adf",
   "metadata": {},
   "outputs": [
    {
     "name": "stdout",
     "output_type": "stream",
     "text": [
      "['生れ', 'つか', 'し', '泣い', 'し', 'いる', '始め', '見', '聞く', '捕え']\n"
     ]
    }
   ],
   "source": [
    "# pos,pos1が動詞の場合にsetに放り込む\n",
    "verb = list()\n",
    "for morpheme in result:\n",
    "    if morpheme[\"pos\"] == \"動詞\" or morpheme[\"pos1\"] == \"動詞\":\n",
    "        verb.append(morpheme[\"surface\"])\n",
    "print(verb[:10])"
   ]
  },
  {
   "cell_type": "markdown",
   "id": "39671507",
   "metadata": {},
   "source": [
    "## 32.動詞の基本形\n",
    "動詞の基本形をすべて抽出せよ。"
   ]
  },
  {
   "cell_type": "code",
   "execution_count": 12,
   "id": "670eb27f",
   "metadata": {},
   "outputs": [
    {
     "name": "stdout",
     "output_type": "stream",
     "text": [
      "['生れる', 'つく', 'する', '泣く', 'する', 'いる', '始める', '見る', '聞く', '捕える']\n"
     ]
    }
   ],
   "source": [
    "# pos,pos1が動詞の場合にsetに放り込む\n",
    "verb = list()\n",
    "for morpheme in result:\n",
    "    if morpheme[\"pos\"] == \"動詞\" or morpheme[\"pos1\"] == \"動詞\":\n",
    "        verb.append(morpheme[\"base\"])\n",
    "print(verb[:10])"
   ]
  },
  {
   "cell_type": "markdown",
   "id": "4657c70f",
   "metadata": {},
   "source": [
    "## 33.「AのB」\n",
    "２つの名詞が「の」で連結されている名詞句を抽出せよ"
   ]
  },
  {
   "cell_type": "code",
   "execution_count": 13,
   "id": "0a3f1793",
   "metadata": {},
   "outputs": [
    {
     "name": "stdout",
     "output_type": "stream",
     "text": [
      "[['彼', '掌'], ['掌', '上'], ['書生', '顔'], ['はず', '顔'], ['顔', '真中'], ['穴', '中'], ['書生', '掌'], ['掌', '裏'], ['何', '事'], ['肝心', '母親']]\n"
     ]
    }
   ],
   "source": [
    "line_count = len(result)\n",
    "noun_link_list = list()\n",
    "for i in range(1,line_count):\n",
    "    if result[i][\"surface\"] == \"の\":\n",
    "        if result[i-1][\"pos\"] == \"名詞\" or result[i-1][\"pos1\"] == \"名詞\":\n",
    "            if result[i+1][\"pos\"] == \"名詞\" or result[i+1][\"pos1\"] == \"名詞\":\n",
    "                noun_link_list.append([result[i-1][\"surface\"],result[i+1][\"surface\"]])\n",
    "print(noun_link_list[:10])"
   ]
  },
  {
   "cell_type": "markdown",
   "id": "ebf82c89",
   "metadata": {},
   "source": [
    "## 34.名詞の連接\n",
    "名詞の連接(連続して出現する名詞)を最長一致で抽出せよ"
   ]
  },
  {
   "cell_type": "code",
   "execution_count": 14,
   "id": "861da2b0",
   "metadata": {},
   "outputs": [
    {
     "name": "stdout",
     "output_type": "stream",
     "text": [
      "10\n",
      "['一 は', '吾輩', '猫', '名前', 'どこ', '見当', '何', '所', 'ニャーニャー', 'いた事']\n"
     ]
    }
   ],
   "source": [
    "noun_list = list()\n",
    "max_num = 0\n",
    "for i in range(line_count):\n",
    "    if result[i][\"pos\"] == \"名詞\" or result[i][\"pos1\"] == \"名詞\":\n",
    "        noun_sen = result[i][\"surface\"]\n",
    "        c_num = 1\n",
    "        while result[i+c_num][\"pos\"] == \"名詞\" or result[i+c_num][\"pos1\"] == \"名詞\":\n",
    "            c_num += 1\n",
    "            noun_sen += \" \" + result[i+c_num][\"surface\"]\n",
    "        max_num = max(max_num, c_num) \n",
    "        i += c_num\n",
    "        noun_list.append(noun_sen)\n",
    "        #print(noun_sen)\n",
    "print(max_num)\n",
    "print(noun_list[:10])"
   ]
  },
  {
   "cell_type": "markdown",
   "id": "57dab8f8",
   "metadata": {},
   "source": [
    "## 35.単語の出現頻度\n",
    "文章中に出現する単語とその出現頻度を求め、出現頻度の高い順に並べよ"
   ]
  },
  {
   "cell_type": "code",
   "execution_count": 20,
   "id": "d6e1bab1",
   "metadata": {},
   "outputs": [],
   "source": [
    "f = open(\"data/ans35.txt\", \"w\")\n",
    "word_freq = {}\n",
    "for i in result:\n",
    "    if i[\"surface\"] not in word_freq:\n",
    "        word_freq[i[\"surface\"]] = 1\n",
    "    else:\n",
    "        word_freq[i[\"surface\"]] += 1\n",
    "        \n",
    "word_freq = dict(sorted(word_freq.items(), key=lambda x:x[1], reverse=True))\n",
    "for word, counter in list(word_freq.items()):\n",
    "    f.write(word+\"\\t\"+str(counter)+\"\\n\")\n",
    "f.close()"
   ]
  },
  {
   "cell_type": "code",
   "execution_count": 21,
   "id": "f8515f78",
   "metadata": {},
   "outputs": [
    {
     "name": "stdout",
     "output_type": "stream",
     "text": [
      "の\t9194\r\n",
      "。\t7486\r\n",
      "て\t6865\r\n",
      "、\t6772\r\n",
      "は\t6420\r\n",
      "cat: stdout: Broken pipe\r\n"
     ]
    }
   ],
   "source": [
    "cat data/ans35.txt | head -n 5"
   ]
  },
  {
   "cell_type": "markdown",
   "id": "b9f9a62f",
   "metadata": {},
   "source": [
    "## 36.頻度上位10語\n",
    "出現頻度の高い10語とその出現頻度をグラフ(例えば棒グラフなど)表示せよ。"
   ]
  },
  {
   "cell_type": "code",
   "execution_count": 46,
   "id": "081bf287",
   "metadata": {},
   "outputs": [
    {
     "data": {
      "image/png": "[encoded data removed]",
      "text/plain": [
       "<Figure size 432x288 with 1 Axes>"
      ]
     },
     "metadata": {
      "needs_background": "light"
     },
     "output_type": "display_data"
    }
   ],
   "source": [
    "import matplotlib.pyplot as plt\n",
    "import japanize_matplotlib\n",
    "\n",
    "x = list()\n",
    "for i in range(1,11):\n",
    "    x.append(i)\n",
    "top10_word = list()\n",
    "top10_count = list()\n",
    "for word, counter in list(word_freq.items())[:10]:\n",
    "    top10_word.append(word)\n",
    "    top10_count.append(counter)\n",
    "plt.bar(x, top10_count, tick_label=list(top10_word))\n",
    "plt.show()"
   ]
  },
  {
   "cell_type": "markdown",
   "id": "11d4bad4",
   "metadata": {},
   "source": [
    "## 37. 「猫」と共起頻度の高い上位10語\n",
    "「猫」とよく共起する（共起頻度が高い）10語とその出現頻度をグラフ（例えば棒グラフなど）で表示せよ．"
   ]
  },
  {
   "cell_type": "code",
   "execution_count": 24,
   "id": "75f501f2",
   "metadata": {},
   "outputs": [],
   "source": [
    "f = open(\"data/ans37.txt\", \"w\")\n",
    "sentence = list()\n",
    "set_sentence = list()\n",
    "neco_frag = False\n",
    "for i in result:\n",
    "    if i[\"pos\"] in {'名詞', '動詞', '形容詞', '副詞'} and i[\"base\"] != \"猫\":\n",
    "        sentence.append(i[\"base\"])\n",
    "    if i[\"base\"] == \"猫\":\n",
    "        neco_frag = True\n",
    "    if i[\"base\"] == \"。\":\n",
    "        sentence.append(neco_frag)\n",
    "        neco_frag = False\n",
    "        set_sentence.append(sentence)\n",
    "        sentence = []\n",
    "\n",
    "neco_counter = dict()\n",
    "\n",
    "# 猫がある文章は[-1]はTrue\n",
    "for i in set_sentence:\n",
    "    if i[-1] == True:\n",
    "        for l in i[:-1]:\n",
    "            if l not in neco_counter:\n",
    "                neco_counter[l] = 1\n",
    "            else:\n",
    "                neco_counter[l] += 1\n",
    "                \n",
    "neco_counter = dict(sorted(neco_counter.items(), key=lambda x:x[1], reverse=True))\n",
    "for word, counter in list(neco_counter.items()):\n",
    "    f.write(word+\"\\t\"+str(counter)+\"\\n\")\n",
    "f.close()"
   ]
  },
  {
   "cell_type": "code",
   "execution_count": 25,
   "id": "8e9d4ab8",
   "metadata": {},
   "outputs": [
    {
     "name": "stdout",
     "output_type": "stream",
     "text": [
      "する\t147\r\n",
      "事\t61\r\n",
      "吾輩\t59\r\n",
      "いる\t58\r\n",
      "ある\t57\r\n"
     ]
    }
   ],
   "source": [
    "cat data/ans37.txt | head -n 5"
   ]
  },
  {
   "cell_type": "code",
   "execution_count": 49,
   "id": "c0f6b997",
   "metadata": {},
   "outputs": [
    {
     "data": {
      "image/png": "[encoded data removed]",
      "text/plain": [
       "<Figure size 432x288 with 1 Axes>"
      ]
     },
     "metadata": {
      "needs_background": "light"
     },
     "output_type": "display_data"
    }
   ],
   "source": [
    "x = list()\n",
    "for i in range(1,11):\n",
    "    x.append(i)\n",
    "top10_word = list()\n",
    "top10_count = list()\n",
    "for word, counter in list(neco_counter.items())[:10]:\n",
    "    top10_word.append(word)\n",
    "    top10_count.append(counter)\n",
    "plt.bar(x, top10_count, tick_label=list(top10_word))\n",
    "plt.show()"
   ]
  },
  {
   "cell_type": "markdown",
   "id": "10caa864",
   "metadata": {},
   "source": [
    "## 38.ヒストグラム\n",
    "単語の出現頻度のヒストグラムを描け．ただし，横軸は出現頻度を表し，1から単語の出現頻度の最大値までの線形目盛とする．縦軸はx軸で示される出現頻度となった単語の異なり数（種類数）である．"
   ]
  },
  {
   "cell_type": "code",
   "execution_count": 107,
   "id": "e9f71b91",
   "metadata": {},
   "outputs": [
    {
     "data": {
      "image/png": "[encoded data removed]",
      "text/plain": [
       "<Figure size 432x288 with 1 Axes>"
      ]
     },
     "metadata": {
      "needs_background": "light"
     },
     "output_type": "display_data"
    }
   ],
   "source": [
    "import collections\n",
    "import numpy as np\n",
    "\n",
    "x = list()\n",
    "top_word = list()\n",
    "top_count = list()\n",
    "for word, counter in list(word_freq.items()):\n",
    "    top_count.append(counter)\n",
    "top_count.sort(reverse=True)\n",
    "plt.hist(top_count, bins=50, range=(1,50))\n",
    "plt.show()"
   ]
  },
  {
   "cell_type": "markdown",
   "id": "2f1ec712",
   "metadata": {},
   "source": [
    "## 39. Zipfの法則\n",
    "単語の出現頻度順位を横軸，その出現頻度を縦軸として，両対数グラフをプロットせよ．"
   ]
  },
  {
   "cell_type": "code",
   "execution_count": 114,
   "id": "a0776bde",
   "metadata": {},
   "outputs": [
    {
     "data": {
      "image/png": "[encoded data removed]",
      "text/plain": [
       "<Figure size 432x288 with 1 Axes>"
      ]
     },
     "metadata": {
      "needs_background": "light"
     },
     "output_type": "display_data"
    }
   ],
   "source": [
    "X = range(1,len(word_freq)+1)\n",
    "Y = list(word_freq.values())\n",
    "plt.scatter(X,Y)\n",
    "plt.xscale(\"log\")\n",
    "plt.yscale(\"log\")\n",
    "plt.xlabel(\"順位\")\n",
    "plt.ylabel(\"出現頻度\")\n",
    "plt.show()"
   ]
  },
  {
   "cell_type": "code",
   "execution_count": null,
   "id": "0ff7ab2a",
   "metadata": {},
   "outputs": [],
   "source": []
  }
 ],
 "metadata": {
  "kernelspec": {
   "display_name": "Python 3 (ipykernel)",
   "language": "python",
   "name": "python3"
  },
  "language_info": {
   "codemirror_mode": {
    "name": "ipython",
    "version": 3
   },
   "file_extension": ".py",
   "mimetype": "text/x-python",
   "name": "python",
   "nbconvert_exporter": "python",
   "pygments_lexer": "ipython3",
   "version": "3.9.7"
  }
 },
 "nbformat": 4,
 "nbformat_minor": 5
}
