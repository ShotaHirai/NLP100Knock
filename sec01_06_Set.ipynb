{
 "cells": [
  {
   "cell_type": "code",
   "execution_count": 7,
   "id": "5330f04a",
   "metadata": {},
   "outputs": [],
   "source": [
    "# 文字n-gramを作る\n",
    "def n_gram(Str,n):\n",
    "    # 単語ごとに区切る\n",
    "    str_list = Str.split()\n",
    "    num = len(str_list)\n",
    "    # 文字のn-gramを作成\n",
    "    num = len(Str)\n",
    "    #print(\"文字 \",n,\"-gram\",sep=\"\")\n",
    "    ans = []\n",
    "    # 範囲は 文字列の長さ - n +1 まで\n",
    "    for l in range(num-n+1):\n",
    "        ans.append(Str[l:l+n])\n",
    "    return ans\n",
    "\n",
    "# 和集合をとる\n",
    "def Union(X, Y):\n",
    "    return X | Y\n",
    "\n",
    "# 積集合をとる\n",
    "def Intersection(X, Y):\n",
    "    return X & Y\n",
    "\n",
    "# 差集合をとる\n",
    "def Difference(X, Y):\n",
    "    return X - Y"
   ]
  },
  {
   "cell_type": "code",
   "execution_count": 8,
   "id": "6e6e9ff1",
   "metadata": {},
   "outputs": [],
   "source": [
    "X = \"paraparaparadise\"\n",
    "Y = \"paragraph\""
   ]
  },
  {
   "cell_type": "code",
   "execution_count": 14,
   "id": "8fe17b37",
   "metadata": {},
   "outputs": [
    {
     "name": "stdout",
     "output_type": "stream",
     "text": [
      "{'ap', 'gr', 'ad', 'ph', 'is', 'ra', 'ar', 'se', 'ag', 'pa', 'di'}\n",
      "{'pa', 'ra', 'ar', 'ap'}\n",
      "{'ad', 'se', 'is', 'di'}\n",
      "X is in se\n",
      "Y isn't in se\n"
     ]
    }
   ],
   "source": [
    "X_list = set(n_gram(X,2))\n",
    "Y_list = set(n_gram(Y,2))\n",
    "\n",
    "# 和集合\n",
    "print(Union(X_list,Y_list))\n",
    "\n",
    "# 積集合\n",
    "print(Intersection(X_list,Y_list))\n",
    "\n",
    "# 差集合\n",
    "print(Difference(X_list,Y_list))\n",
    "\n",
    "# \"se\"があるかどうか\n",
    "if \"se\" in X_list:\n",
    "    print(\"X is in se\")\n",
    "else:\n",
    "    print(\"X isn't in se\")\n",
    "if \"se\" in Y_list:\n",
    "    print(\"Y in se\")\n",
    "else:\n",
    "    print(\"Y isn't in se\")"
   ]
  },
  {
   "cell_type": "code",
   "execution_count": null,
   "id": "c91df776",
   "metadata": {},
   "outputs": [],
   "source": []
  }
 ],
 "metadata": {
  "kernelspec": {
   "display_name": "Python 3 (ipykernel)",
   "language": "python",
   "name": "python3"
  },
  "language_info": {
   "codemirror_mode": {
    "name": "ipython",
    "version": 3
   },
   "file_extension": ".py",
   "mimetype": "text/x-python",
   "name": "python",
   "nbconvert_exporter": "python",
   "pygments_lexer": "ipython3",
   "version": "3.9.7"
  }
 },
 "nbformat": 4,
 "nbformat_minor": 5
}
