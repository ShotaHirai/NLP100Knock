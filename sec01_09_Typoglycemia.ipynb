{
 "cells": [
  {
   "cell_type": "code",
   "execution_count": 7,
   "id": "802690c7",
   "metadata": {},
   "outputs": [],
   "source": [
    "import random\n",
    "\n",
    "def random_str(Str):\n",
    "    Str_list = Str.split()\n",
    "    rep_Str = \"\"\n",
    "    for i in Str_list:\n",
    "        if len(i) > 4:\n",
    "            rep_Str += i[0]\n",
    "            middle = i[1:-1]\n",
    "            rep_Str += ''.join(random.sample(middle, len(middle)))\n",
    "            rep_Str += i[-1]\n",
    "            \n",
    "        else:\n",
    "            rep_Str += i\n",
    "        rep_Str += \" \"\n",
    "    #最後にできる空白を消す\n",
    "    rep_Str = rep_Str[:-1]\n",
    "    return rep_Str"
   ]
  },
  {
   "cell_type": "code",
   "execution_count": 8,
   "id": "04b51b58",
   "metadata": {},
   "outputs": [],
   "source": [
    "Str = \"I couldn’t believe that I could actually understand what I was reading : the phenomenal power of the human mind .\""
   ]
  },
  {
   "cell_type": "code",
   "execution_count": 9,
   "id": "d892417d",
   "metadata": {},
   "outputs": [
    {
     "data": {
      "text/plain": [
       "'I clu’nodt bilveee that I culod aullcaty utnresadnd what I was redniag : the phaoemnnel pweor of the hamun mind .'"
      ]
     },
     "execution_count": 9,
     "metadata": {},
     "output_type": "execute_result"
    }
   ],
   "source": [
    "random_str(Str)"
   ]
  },
  {
   "cell_type": "code",
   "execution_count": null,
   "id": "9abd7d4f",
   "metadata": {},
   "outputs": [],
   "source": []
  }
 ],
 "metadata": {
  "kernelspec": {
   "display_name": "Python 3 (ipykernel)",
   "language": "python",
   "name": "python3"
  },
  "language_info": {
   "codemirror_mode": {
    "name": "ipython",
    "version": 3
   },
   "file_extension": ".py",
   "mimetype": "text/x-python",
   "name": "python",
   "nbconvert_exporter": "python",
   "pygments_lexer": "ipython3",
   "version": "3.9.7"
  }
 },
 "nbformat": 4,
 "nbformat_minor": 5
}
