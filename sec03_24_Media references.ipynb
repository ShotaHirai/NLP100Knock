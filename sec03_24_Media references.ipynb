{
 "cells": [
  {
   "cell_type": "code",
   "execution_count": 1,
   "id": "733ba9c1",
   "metadata": {},
   "outputs": [],
   "source": [
    "import json\n",
    "import re"
   ]
  },
  {
   "cell_type": "code",
   "execution_count": 36,
   "id": "223053c2",
   "metadata": {},
   "outputs": [
    {
     "name": "stdout",
     "output_type": "stream",
     "text": [
      "Flag of the United Kingdom.svg\n",
      "Royal Coat of Arms of the United Kingdom.svg\n",
      "Europe-UK.svg\n",
      "United Kingdom (+overseas territories) in the World (+Antarctica claims).svg\n",
      "Population density UK 2011 census.png\n",
      "UKpop.svg\n",
      "Anglospeak.svg\n"
     ]
    }
   ],
   "source": [
    "f = open(\"jawiki-country.json\", \"r\")\n",
    "for i in f:\n",
    "    df = json.loads(i)\n",
    "    if df[\"title\"] == \"イギリス\":\n",
    "        Britain = df\n",
    "    \n",
    "text = Britain[\"text\"]\n",
    "#print(text)\n",
    "line_list = text.split(\"\\n\")\n",
    "file_list = list()\n",
    "for i in line_list:\n",
    "    if re.search(\"\\.svg\", i):\n",
    "        file_list.append(i)\n",
    "    if re.search(\"\\.png\", i):\n",
    "        file_list.append(i)\n",
    "    \n",
    "media_file = list()\n",
    "        \n",
    "for i in file_list:\n",
    "    media = re.sub(r\"|.* = \", \"\", i)\n",
    "    media = re.sub(r\"\\[\\[.*:\", \"\", media)\n",
    "    media = re.sub(r\"\\|.*\", \"\", media)\n",
    "    print(media)"
   ]
  },
  {
   "cell_type": "code",
   "execution_count": null,
   "id": "b1716190",
   "metadata": {},
   "outputs": [],
   "source": []
  }
 ],
 "metadata": {
  "kernelspec": {
   "display_name": "Python 3 (ipykernel)",
   "language": "python",
   "name": "python3"
  },
  "language_info": {
   "codemirror_mode": {
    "name": "ipython",
    "version": 3
   },
   "file_extension": ".py",
   "mimetype": "text/x-python",
   "name": "python",
   "nbconvert_exporter": "python",
   "pygments_lexer": "ipython3",
   "version": "3.9.7"
  }
 },
 "nbformat": 4,
 "nbformat_minor": 5
}
