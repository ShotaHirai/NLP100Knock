{
 "cells": [
  {
   "cell_type": "code",
   "execution_count": 3,
   "id": "0a77907f",
   "metadata": {},
   "outputs": [],
   "source": [
    "def TmpSen(x,y,z):\n",
    "    return \"{}時の{}は{}\".format(str(x),str(y),str(z))"
   ]
  },
  {
   "cell_type": "code",
   "execution_count": 4,
   "id": "e355c8be",
   "metadata": {},
   "outputs": [],
   "source": [
    "x=12\n",
    "y=\"気温\"\n",
    "z=22.4"
   ]
  },
  {
   "cell_type": "code",
   "execution_count": 5,
   "id": "0e3d6cd5",
   "metadata": {},
   "outputs": [
    {
     "data": {
      "text/plain": [
       "'12時の気温は22.4'"
      ]
     },
     "execution_count": 5,
     "metadata": {},
     "output_type": "execute_result"
    }
   ],
   "source": [
    "TmpSen(x,y,z)"
   ]
  },
  {
   "cell_type": "code",
   "execution_count": null,
   "id": "4d363a87",
   "metadata": {},
   "outputs": [],
   "source": []
  }
 ],
 "metadata": {
  "kernelspec": {
   "display_name": "Python 3 (ipykernel)",
   "language": "python",
   "name": "python3"
  },
  "language_info": {
   "codemirror_mode": {
    "name": "ipython",
    "version": 3
   },
   "file_extension": ".py",
   "mimetype": "text/x-python",
   "name": "python",
   "nbconvert_exporter": "python",
   "pygments_lexer": "ipython3",
   "version": "3.9.7"
  }
 },
 "nbformat": 4,
 "nbformat_minor": 5
}
