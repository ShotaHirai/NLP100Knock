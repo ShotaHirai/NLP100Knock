{
 "cells": [
  {
   "cell_type": "markdown",
   "id": "3cad5090",
   "metadata": {},
   "source": [
    "## 00. 文字列の逆順\n",
    "文字列”stressed”の文字を逆に（末尾から先頭に向かって）並べた文字列を得よ．"
   ]
  },
  {
   "cell_type": "code",
   "execution_count": 1,
   "id": "9fd4cb85",
   "metadata": {},
   "outputs": [
    {
     "name": "stdout",
     "output_type": "stream",
     "text": [
      "desserts\n"
     ]
    }
   ],
   "source": [
    "Str = \"stressed\"\n",
    "Str = Str[::-1] # スライス[start:stop:step] stepを-1にする後ろから取得\n",
    "print(Str)"
   ]
  },
  {
   "cell_type": "markdown",
   "id": "252c3242",
   "metadata": {},
   "source": [
    "## 01. 「パタトクカシーー」\n",
    "「パタトクカシーー」という文字列の1,3,5,7文字目を取り出して連結した文字列を得よ．"
   ]
  },
  {
   "cell_type": "code",
   "execution_count": 5,
   "id": "723a4f3a",
   "metadata": {},
   "outputs": [
    {
     "name": "stdout",
     "output_type": "stream",
     "text": [
      "パトカー\n"
     ]
    }
   ],
   "source": [
    "Str = \"パタトクカシーー\"\n",
    "Str = Str[0:7:2]\n",
    "print(Str)"
   ]
  },
  {
   "cell_type": "markdown",
   "id": "99a783cd",
   "metadata": {},
   "source": [
    "## 02. 「パトカー」＋「タクシー」＝「パタトクカシーー」\n",
    "「パトカー」＋「タクシー」の文字を先頭から交互に連結して文字列「パタトクカシーー」を得よ"
   ]
  },
  {
   "cell_type": "code",
   "execution_count": 6,
   "id": "313a60d3",
   "metadata": {},
   "outputs": [
    {
     "name": "stdout",
     "output_type": "stream",
     "text": [
      "パタトクカシーー\n"
     ]
    }
   ],
   "source": [
    "Str1 = \"パトカー\"\n",
    "Str2 = \"タクシー\"\n",
    "Str = \"\"\n",
    "for i in range(4):\n",
    "    Str += Str1[i] + Str2[i]\n",
    "print(Str)"
   ]
  },
  {
   "cell_type": "markdown",
   "id": "335d24cc",
   "metadata": {},
   "source": [
    "## 03. 円周率\n",
    "“Now I need a drink, alcoholic of course, after the heavy lectures involving quantum mechanics.”という文を単語に分解し，各単語の（アルファベットの）文字数を先頭から出現順に並べたリストを作成せよ．"
   ]
  },
  {
   "cell_type": "code",
   "execution_count": 7,
   "id": "caf2eaf2",
   "metadata": {},
   "outputs": [],
   "source": [
    "Str = \"Now I need a drink, alcoholic of course, after the heavy lectures involving quantum mechanics.\""
   ]
  },
  {
   "cell_type": "code",
   "execution_count": 8,
   "id": "b5f7560f",
   "metadata": {},
   "outputs": [
    {
     "name": "stdout",
     "output_type": "stream",
     "text": [
      "[3, 1, 4, 1, 5, 9, 2, 6, 5, 3, 5, 8, 9, 7, 10]\n"
     ]
    }
   ],
   "source": [
    "str_list = Str.split()\n",
    "for i in range(len(str_list)):\n",
    "    if str_list[i][-1] == \",\":\n",
    "        str_list[i] = str_list[i][:-1]\n",
    "Ans_list = []\n",
    "for i in range(len(str_list)):\n",
    "    Ans_list.append(len(str_list[i]))\n",
    "print(Ans_list)"
   ]
  },
  {
   "cell_type": "markdown",
   "id": "1746cb82",
   "metadata": {},
   "source": [
    "## 04. 元素記号\n",
    "“Hi He Lied Because Boron Could Not Oxidize Fluorine. New Nations Might Also Sign Peace Security Clause. Arthur King Can.”という文を単語に分解し，1, 5, 6, 7, 8, 9, 15, 16, 19番目の単語は先頭の1文字，それ以外の単語は先頭の2文字を取り出し，取り出した文字列から単語の位置（先頭から何番目の単語か）への連想配列（辞書型もしくはマップ型）を作成せよ．"
   ]
  },
  {
   "cell_type": "code",
   "execution_count": 9,
   "id": "b4f6949d",
   "metadata": {},
   "outputs": [],
   "source": [
    "Str = \"Hi He Lied Because Boron Could Not Oxidize Fluorine. New Nations Might Also Sign Peace Security Clause. Arthur King Can.\""
   ]
  },
  {
   "cell_type": "code",
   "execution_count": 12,
   "id": "631732f8",
   "metadata": {},
   "outputs": [
    {
     "name": "stdout",
     "output_type": "stream",
     "text": [
      "{'H': 1, 'He': 2, 'Li': 3, 'Be': 4, 'B': 5, 'C': 6, 'N': 7, 'O': 8, 'F': 9, 'Ne': 10, 'Na': 11, 'Mi': 12, 'Al': 13, 'Si': 14, 'P': 15, 'S': 16, 'Cl': 17, 'Ar': 18, 'K': 19, 'Ca': 20}\n"
     ]
    }
   ],
   "source": [
    "sen_dict = {}\n",
    "number_list = [1, 5, 6, 7, 8, 9, 15, 16, 19]\n",
    "str_list = Str.split()\n",
    "for i in range(len(str_list)):\n",
    "    if i+1 in number_list:\n",
    "        sen_dict[str_list[i][0]] = i+1\n",
    "    else:\n",
    "        sen_dict[str_list[i][:2]] = i+1\n",
    "        \n",
    "print(sen_dict)"
   ]
  },
  {
   "cell_type": "markdown",
   "id": "a374d1c8",
   "metadata": {},
   "source": [
    "## 05. n-gram\n",
    "与えられたシーケンス（文字列やリストなど）からn-gramを作る関数を作成せよ．この関数を用い，”I am an NLPer”という文から単語bi-gram，文字bi-gramを得よ．"
   ]
  },
  {
   "cell_type": "code",
   "execution_count": 13,
   "id": "b3e3a960",
   "metadata": {},
   "outputs": [],
   "source": [
    "def n_gram(Str):\n",
    "    # 単語ごとに区切る\n",
    "    str_list = Str.split()\n",
    "    # 文字列の空白を取り除く\n",
    "    Str = \"\"\n",
    "    for i in range(len(str_list)):\n",
    "        Str = Str + str_list[i]\n",
    "    print(Str)\n",
    "    n = len(str_list)\n",
    "    # 単語のn-gramを作成\n",
    "    for i in range(1,n):\n",
    "        print(\"単語 \",i,\"-gram\",sep=\"\")\n",
    "        for l in range(n-i+1):\n",
    "            print(str_list[l:l+i])\n",
    "        print()\n",
    "    # 文字のn-gramを作成\n",
    "    n = len(Str)\n",
    "    for i in range(1,n):\n",
    "        print(\"文字 \",i,\"-gram\",sep=\"\")\n",
    "        for l in range(n-i+1):\n",
    "            print(Str[l:l+i])\n",
    "        print()"
   ]
  },
  {
   "cell_type": "code",
   "execution_count": 15,
   "id": "e65dad8e",
   "metadata": {},
   "outputs": [],
   "source": [
    "Str = \"I am an NLPer\""
   ]
  },
  {
   "cell_type": "code",
   "execution_count": 16,
   "id": "0bc926e2",
   "metadata": {},
   "outputs": [
    {
     "name": "stdout",
     "output_type": "stream",
     "text": [
      "IamanNLPer\n",
      "単語 1-gram\n",
      "['I']\n",
      "['am']\n",
      "['an']\n",
      "['NLPer']\n",
      "\n",
      "単語 2-gram\n",
      "['I', 'am']\n",
      "['am', 'an']\n",
      "['an', 'NLPer']\n",
      "\n",
      "単語 3-gram\n",
      "['I', 'am', 'an']\n",
      "['am', 'an', 'NLPer']\n",
      "\n",
      "文字 1-gram\n",
      "I\n",
      "a\n",
      "m\n",
      "a\n",
      "n\n",
      "N\n",
      "L\n",
      "P\n",
      "e\n",
      "r\n",
      "\n",
      "文字 2-gram\n",
      "Ia\n",
      "am\n",
      "ma\n",
      "an\n",
      "nN\n",
      "NL\n",
      "LP\n",
      "Pe\n",
      "er\n",
      "\n",
      "文字 3-gram\n",
      "Iam\n",
      "ama\n",
      "man\n",
      "anN\n",
      "nNL\n",
      "NLP\n",
      "LPe\n",
      "Per\n",
      "\n",
      "文字 4-gram\n",
      "Iama\n",
      "aman\n",
      "manN\n",
      "anNL\n",
      "nNLP\n",
      "NLPe\n",
      "LPer\n",
      "\n",
      "文字 5-gram\n",
      "Iaman\n",
      "amanN\n",
      "manNL\n",
      "anNLP\n",
      "nNLPe\n",
      "NLPer\n",
      "\n",
      "文字 6-gram\n",
      "IamanN\n",
      "amanNL\n",
      "manNLP\n",
      "anNLPe\n",
      "nNLPer\n",
      "\n",
      "文字 7-gram\n",
      "IamanNL\n",
      "amanNLP\n",
      "manNLPe\n",
      "anNLPer\n",
      "\n",
      "文字 8-gram\n",
      "IamanNLP\n",
      "amanNLPe\n",
      "manNLPer\n",
      "\n",
      "文字 9-gram\n",
      "IamanNLPe\n",
      "amanNLPer\n",
      "\n"
     ]
    }
   ],
   "source": [
    "n_gram(Str)"
   ]
  },
  {
   "cell_type": "markdown",
   "id": "e98cd2f3",
   "metadata": {},
   "source": [
    "## 06. 集合\n",
    "“paraparaparadise”と”paragraph”に含まれる文字bi-gramの集合を，それぞれ, XとYとして求め，XとYの和集合，積集合，差集合を求めよ．さらに，’se’というbi-gramがXおよびYに含まれるかどうかを調べよ．"
   ]
  },
  {
   "cell_type": "code",
   "execution_count": 17,
   "id": "b5f456c5",
   "metadata": {},
   "outputs": [
    {
     "name": "stdout",
     "output_type": "stream",
     "text": [
      "{'ap', 'ag', 'ph', 'di', 'ar', 'is', 'ra', 'ad', 'pa', 'gr', 'se'}\n",
      "{'ap', 'ar', 'pa', 'ra'}\n",
      "{'is', 'se', 'ad', 'di'}\n",
      "X is in se\n",
      "Y isn't in se\n"
     ]
    }
   ],
   "source": [
    "# 文字n-gramを作る\n",
    "def n_gram(Str,n):\n",
    "    # 単語ごとに区切る\n",
    "    str_list = Str.split()\n",
    "    num = len(str_list)\n",
    "    # 文字のn-gramを作成\n",
    "    num = len(Str)\n",
    "    #print(\"文字 \",n,\"-gram\",sep=\"\")\n",
    "    ans = []\n",
    "    # 範囲は 文字列の長さ - n +1 まで\n",
    "    for l in range(num-n+1):\n",
    "        ans.append(Str[l:l+n])\n",
    "    return ans\n",
    "\n",
    "# 和集合をとる\n",
    "def Union(X, Y):\n",
    "    return X | Y\n",
    "\n",
    "# 積集合をとる\n",
    "def Intersection(X, Y):\n",
    "    return X & Y\n",
    "\n",
    "# 差集合をとる\n",
    "def Difference(X, Y):\n",
    "    return X - Y\n",
    "\n",
    "X = \"paraparaparadise\"\n",
    "Y = \"paragraph\"\n",
    "\n",
    "X_list = set(n_gram(X,2))\n",
    "Y_list = set(n_gram(Y,2))\n",
    "\n",
    "# 和集合\n",
    "print(Union(X_list,Y_list))\n",
    "\n",
    "# 積集合\n",
    "print(Intersection(X_list,Y_list))\n",
    "\n",
    "# 差集合\n",
    "print(Difference(X_list,Y_list))\n",
    "\n",
    "# \"se\"があるかどうか\n",
    "if \"se\" in X_list:\n",
    "    print(\"X is in se\")\n",
    "else:\n",
    "    print(\"X isn't in se\")\n",
    "if \"se\" in Y_list:\n",
    "    print(\"Y in se\")\n",
    "else:\n",
    "    print(\"Y isn't in se\")"
   ]
  },
  {
   "cell_type": "markdown",
   "id": "b3b89c09",
   "metadata": {},
   "source": [
    "## 07. テンプレートによる文生成\n",
    "引数x, y, zを受け取り「x時のyはz」という文字列を返す関数を実装せよ．さらに，x=12, y=”気温”, z=22.4として，実行結果を確認せよ．"
   ]
  },
  {
   "cell_type": "code",
   "execution_count": 18,
   "id": "0eaa9636",
   "metadata": {},
   "outputs": [
    {
     "data": {
      "text/plain": [
       "'12時の気温は22.4'"
      ]
     },
     "execution_count": 18,
     "metadata": {},
     "output_type": "execute_result"
    }
   ],
   "source": [
    "def TmpSen(x,y,z):\n",
    "    return \"{}時の{}は{}\".format(str(x),str(y),str(z))\n",
    "\n",
    "x=12\n",
    "y=\"気温\"\n",
    "z=22.4\n",
    "\n",
    "TmpSen(x,y,z)"
   ]
  },
  {
   "cell_type": "markdown",
   "id": "3d615037",
   "metadata": {},
   "source": [
    "## 08. 暗号文\n",
    "与えられた文字列の各文字を，以下の仕様で変換する関数cipherを実装せよ．\n",
    "\n",
    "英小文字ならば(219 - 文字コード)の文字に置換\n",
    "その他の文字はそのまま出力\n",
    "この関数を用い，英語のメッセージを暗号化・復号化せよ．"
   ]
  },
  {
   "cell_type": "code",
   "execution_count": 19,
   "id": "abcea99e",
   "metadata": {},
   "outputs": [],
   "source": [
    "def Encryption(Str):\n",
    "    length = len(Str)\n",
    "    rep_Str = \"\"\n",
    "    for i in range(length):\n",
    "        if Str[i].isalpha() and Str[i].islower():\n",
    "            rep_Str += chr(219-ord(Str[i]))\n",
    "        else:\n",
    "            rep_Str += Str[i]\n",
    "    return rep_Str\n",
    "\n",
    "def Decryption(Str):\n",
    "    length = len(Str)\n",
    "    rep_Str = \"\"\n",
    "    for i in range(length):\n",
    "        if Str[i].isalpha() and Str[i].islower():\n",
    "            rep_Str += chr(219-ord(Str[i]))\n",
    "        else:\n",
    "            rep_Str += Str[i]\n",
    "    return rep_Str"
   ]
  },
  {
   "cell_type": "code",
   "execution_count": 20,
   "id": "4e2f2817",
   "metadata": {},
   "outputs": [
    {
     "data": {
      "text/plain": [
       "'Mb mznv rh 5'"
      ]
     },
     "execution_count": 20,
     "metadata": {},
     "output_type": "execute_result"
    }
   ],
   "source": [
    "Encryption(\"My name is 5\")"
   ]
  },
  {
   "cell_type": "code",
   "execution_count": 21,
   "id": "eff2b040",
   "metadata": {},
   "outputs": [
    {
     "data": {
      "text/plain": [
       "'My name is 5'"
      ]
     },
     "execution_count": 21,
     "metadata": {},
     "output_type": "execute_result"
    }
   ],
   "source": [
    "Decryption('Mb mznv rh 5')"
   ]
  },
  {
   "cell_type": "markdown",
   "id": "4a9e07bb",
   "metadata": {},
   "source": [
    "## 09. Typoglycemia\n",
    "スペースで区切られた単語列に対して，各単語の先頭と末尾の文字は残し，それ以外の文字の順序をランダムに並び替えるプログラムを作成せよ．ただし，長さが４以下の単語は並び替えないこととする．適当な英語の文（例えば”I couldn’t believe that I could actually understand what I was reading : the phenomenal power of the human mind .”）を与え，その実行結果を確認せよ．"
   ]
  },
  {
   "cell_type": "code",
   "execution_count": 22,
   "id": "f7c06dfd",
   "metadata": {},
   "outputs": [],
   "source": [
    "import random\n",
    "\n",
    "def random_str(Str):\n",
    "    Str_list = Str.split()\n",
    "    rep_Str = \"\"\n",
    "    for i in Str_list:\n",
    "        if len(i) > 4:\n",
    "            rep_Str += i[0]\n",
    "            middle = i[1:-1]\n",
    "            rep_Str += ''.join(random.sample(middle, len(middle)))\n",
    "            rep_Str += i[-1]\n",
    "            \n",
    "        else:\n",
    "            rep_Str += i\n",
    "        rep_Str += \" \"\n",
    "    #最後にできる空白を消す\n",
    "    rep_Str = rep_Str[:-1]\n",
    "    return rep_Str"
   ]
  },
  {
   "cell_type": "code",
   "execution_count": 23,
   "id": "f78cb466",
   "metadata": {},
   "outputs": [],
   "source": [
    "Str = \"I couldn’t believe that I could actually understand what I was reading : the phenomenal power of the human mind .\""
   ]
  },
  {
   "cell_type": "code",
   "execution_count": 24,
   "id": "33b635a9",
   "metadata": {},
   "outputs": [
    {
     "data": {
      "text/plain": [
       "'I co’ldunt beeivle that I colud alclutay uanrtnsedd what I was reidang : the pemeonnahl pwoer of the hamun mind .'"
      ]
     },
     "execution_count": 24,
     "metadata": {},
     "output_type": "execute_result"
    }
   ],
   "source": [
    "random_str(Str)"
   ]
  },
  {
   "cell_type": "code",
   "execution_count": null,
   "id": "968c9834",
   "metadata": {},
   "outputs": [],
   "source": []
  }
 ],
 "metadata": {
  "kernelspec": {
   "display_name": "Python 3 (ipykernel)",
   "language": "python",
   "name": "python3"
  },
  "language_info": {
   "codemirror_mode": {
    "name": "ipython",
    "version": 3
   },
   "file_extension": ".py",
   "mimetype": "text/x-python",
   "name": "python",
   "nbconvert_exporter": "python",
   "pygments_lexer": "ipython3",
   "version": "3.9.7"
  }
 },
 "nbformat": 4,
 "nbformat_minor": 5
}
