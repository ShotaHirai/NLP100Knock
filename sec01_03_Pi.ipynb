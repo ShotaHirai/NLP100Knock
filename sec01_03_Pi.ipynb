{
 "cells": [
  {
   "cell_type": "code",
   "execution_count": 1,
   "id": "a0bc0e88",
   "metadata": {},
   "outputs": [],
   "source": [
    "Str = \"Now I need a drink, alcoholic of course, after the heavy lectures involving quantum mechanics.\""
   ]
  },
  {
   "cell_type": "code",
   "execution_count": 16,
   "id": "60d1ea33",
   "metadata": {},
   "outputs": [
    {
     "name": "stdout",
     "output_type": "stream",
     "text": [
      "[3, 1, 4, 1, 5, 9, 2, 6, 5, 3, 5, 8, 9, 7, 10]\n"
     ]
    }
   ],
   "source": [
    "str_list = Str.split()\n",
    "for i in range(len(str_list)):\n",
    "    if str_list[i][-1] == \",\":\n",
    "        str_list[i] = str_list[i][:-1]\n",
    "Ans_list = []\n",
    "for i in range(len(str_list)):\n",
    "    Ans_list.append(len(str_list[i]))\n",
    "print(Ans_list)"
   ]
  },
  {
   "cell_type": "code",
   "execution_count": null,
   "id": "7e8119e2",
   "metadata": {},
   "outputs": [],
   "source": []
  },
  {
   "cell_type": "code",
   "execution_count": null,
   "id": "eef5da1d",
   "metadata": {},
   "outputs": [],
   "source": []
  }
 ],
 "metadata": {
  "kernelspec": {
   "display_name": "Python 3 (ipykernel)",
   "language": "python",
   "name": "python3"
  },
  "language_info": {
   "codemirror_mode": {
    "name": "ipython",
    "version": 3
   },
   "file_extension": ".py",
   "mimetype": "text/x-python",
   "name": "python",
   "nbconvert_exporter": "python",
   "pygments_lexer": "ipython3",
   "version": "3.9.7"
  }
 },
 "nbformat": 4,
 "nbformat_minor": 5
}
