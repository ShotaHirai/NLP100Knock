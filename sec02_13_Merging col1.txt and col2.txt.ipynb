{
 "cells": [
  {
   "cell_type": "code",
   "execution_count": 1,
   "id": "e8a83686-d18c-40a3-8777-421557729253",
   "metadata": {},
   "outputs": [],
   "source": [
    "import os"
   ]
  },
  {
   "cell_type": "code",
   "execution_count": 22,
   "id": "de0e5098-78de-4ff9-a3a2-1ec8333ee4a6",
   "metadata": {},
   "outputs": [
    {
     "name": "stdout",
     "output_type": "stream",
     "text": [
      "Mary\tF\t7065\t1880\tAnna\tF\t2604\t1880\n"
     ]
    }
   ],
   "source": [
    "L1 = open(\"col1.txt\",\"r\")\n",
    "L2 = open(\"col2.txt\", \"r\")\n",
    "Line1_list = L1.readlines()\n",
    "Line2_list = L2.readlines()\n",
    "\n",
    "# 保存先\n",
    "Save = open(\"marge_col.txt\", \"w\")\n",
    "merge_txt = Line1_list[0] + \"\\t\" + Line2_list[0]\n",
    "print(merge_txt)\n",
    "Save.write(merge_txt)\n",
    "\n",
    "L1.close()\n",
    "L2.close()\n",
    "Save.close()"
   ]
  },
  {
   "cell_type": "code",
   "execution_count": 21,
   "id": "1fce44c2-8739-4e90-8f17-2fb2c14cfc0e",
   "metadata": {},
   "outputs": [
    {
     "name": "stdout",
     "output_type": "stream",
     "text": [
      "Mary\tF\t7065\t1880\tAnna\tF\t2604\t1880\n"
     ]
    }
   ],
   "source": [
    "!paste col1.txt col2.txt"
   ]
  },
  {
   "cell_type": "code",
   "execution_count": null,
   "id": "2cdd8bb7-0e33-433b-a763-2bd4b0929fb5",
   "metadata": {},
   "outputs": [],
   "source": []
  }
 ],
 "metadata": {
  "kernelspec": {
   "display_name": "Python 3 (ipykernel)",
   "language": "python",
   "name": "python3"
  },
  "language_info": {
   "codemirror_mode": {
    "name": "ipython",
    "version": 3
   },
   "file_extension": ".py",
   "mimetype": "text/x-python",
   "name": "python",
   "nbconvert_exporter": "python",
   "pygments_lexer": "ipython3",
   "version": "3.9.7"
  }
 },
 "nbformat": 4,
 "nbformat_minor": 5
}
