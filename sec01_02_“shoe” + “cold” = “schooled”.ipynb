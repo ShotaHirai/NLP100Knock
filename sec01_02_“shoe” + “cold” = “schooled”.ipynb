{
 "cells": [
  {
   "cell_type": "code",
   "execution_count": 1,
   "id": "04bef3e5",
   "metadata": {},
   "outputs": [],
   "source": [
    "Str1 = \"shoe\"\n",
    "Str2 = \"cold\""
   ]
  },
  {
   "cell_type": "code",
   "execution_count": 2,
   "id": "f2d07dd6",
   "metadata": {},
   "outputs": [
    {
     "name": "stdout",
     "output_type": "stream",
     "text": [
      "schooled\n"
     ]
    }
   ],
   "source": [
    "ans_list = []\n",
    "for i in range(4):\n",
    "    ans_list.append(Str1[i])\n",
    "    ans_list.append(Str2[i])\n",
    "Ans = \"\".join(ans_list)\n",
    "print(Ans)"
   ]
  },
  {
   "cell_type": "code",
   "execution_count": null,
   "id": "4de9aa67",
   "metadata": {},
   "outputs": [],
   "source": []
  }
 ],
 "metadata": {
  "kernelspec": {
   "display_name": "Python 3 (ipykernel)",
   "language": "python",
   "name": "python3"
  },
  "language_info": {
   "codemirror_mode": {
    "name": "ipython",
    "version": 3
   },
   "file_extension": ".py",
   "mimetype": "text/x-python",
   "name": "python",
   "nbconvert_exporter": "python",
   "pygments_lexer": "ipython3",
   "version": "3.9.7"
  }
 },
 "nbformat": 4,
 "nbformat_minor": 5
}
