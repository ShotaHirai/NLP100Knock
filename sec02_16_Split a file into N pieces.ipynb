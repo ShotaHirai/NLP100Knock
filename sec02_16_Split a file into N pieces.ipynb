{
 "cells": [
  {
   "cell_type": "code",
   "execution_count": 33,
   "id": "49d6df9f-e2ee-4a37-ad6e-a7ece03fcd79",
   "metadata": {},
   "outputs": [],
   "source": [
    "import os"
   ]
  },
  {
   "cell_type": "code",
   "execution_count": 34,
   "id": "af0dd734-b53a-4f17-8027-e6e8a8896a2c",
   "metadata": {},
   "outputs": [],
   "source": [
    "def split_n(n):\n",
    "    f = open(\"popular-names.txt\", \"r\")\n",
    "    line_list = f.readlines()\n",
    "\n",
    "    line_count = 0\n",
    "    file_number = 0\n",
    "    \n",
    "    flag = True\n",
    "    \n",
    "    # 保存\n",
    "    while line_count <= len(line_list) and flag:\n",
    "        file_name = \"name-\" + str(file_number)\n",
    "        file = open(file_name, \"w\")\n",
    "        \n",
    "        # 書き出し\n",
    "        for i in range(n):\n",
    "            file.write(line_list[line_count])\n",
    "            line_count += 1\n",
    "            if line_count >= len(line_list):\n",
    "                flag = False\n",
    "                break\n",
    "        file.close()\n",
    "        file_number += 1\n",
    "    f.close()"
   ]
  },
  {
   "cell_type": "code",
   "execution_count": 35,
   "id": "3aecbd7f-3769-4a1a-aea8-5cdde5615359",
   "metadata": {},
   "outputs": [],
   "source": [
    "split_n(500)"
   ]
  },
  {
   "cell_type": "code",
   "execution_count": 36,
   "id": "d4ba7367-4e68-4942-9466-f002e36434ca",
   "metadata": {},
   "outputs": [],
   "source": [
    "!split -l 500 popular-names.txt name-"
   ]
  },
  {
   "cell_type": "code",
   "execution_count": 37,
   "id": "e218511b-eb7c-47f2-bcfe-5ea1faa44142",
   "metadata": {},
   "outputs": [
    {
     "name": "stdout",
     "output_type": "stream",
     "text": [
      "col1.txt\n",
      "col2.txt\n",
      "marge_col.txt\n",
      "name-0\n",
      "name-1\n",
      "name-2\n",
      "name-3\n",
      "name-4\n",
      "name-5\n",
      "name-aa\n",
      "name-ab\n",
      "name-ac\n",
      "name-ad\n",
      "name-ae\n",
      "name-af\n",
      "new_popuplar-names.txt\n",
      "popular-names.txt\n",
      "sec01_00_Reversed_string.ipynb\n",
      "sec01_01_“schooled”.ipynb\n",
      "sec01_02_“shoe” + “cold” = “schooled”.ipynb\n",
      "sec01_03_Pi.ipynb\n",
      "sec01_04_Atomic symbols.ipynb\n",
      "sec01_05_n-gram.ipynb\n",
      "sec01_06_Set.ipynb\n",
      "sec01_07_Template-based sentence generation.ipynb\n",
      "sec01_08_cipher text.ipynb\n",
      "sec01_09_Typoglycemia.ipynb\n",
      "sec02_10_Line count.ipynb\n",
      "sec02_11_Replace tabs into spaces.ipynb\n",
      "sec02_12_col1.txt from the first column, col2.txt from the second column.ipynb\n",
      "sec02_13_Merging col1.txt and col2.txt.ipynb\n",
      "sec02_14_First N lines.ipynb\n",
      "sec02_15_Last N lines.ipynb\n",
      "sec02_16_Split a file into N pieces.ipynb\n",
      "test.txt\n"
     ]
    }
   ],
   "source": [
    "!ls"
   ]
  },
  {
   "cell_type": "code",
   "execution_count": 39,
   "id": "d7304ec1-d343-45d2-a753-58cd83d244d4",
   "metadata": {},
   "outputs": [
    {
     "name": "stdout",
     "output_type": "stream",
     "text": [
      "Emily\tF\t23940\t2005\n",
      "Emma\tF\t20344\t2005\n",
      "Madison\tF\t19568\t2005\n",
      "Abigail\tF\t15749\t2005\n",
      "Olivia\tF\t15693\t2005\n"
     ]
    }
   ],
   "source": [
    "!head -n 5 name-5"
   ]
  },
  {
   "cell_type": "code",
   "execution_count": 40,
   "id": "fa4b660c-74ac-447b-ad35-b82b54905007",
   "metadata": {},
   "outputs": [
    {
     "name": "stdout",
     "output_type": "stream",
     "text": [
      "Emily\tF\t23940\t2005\n",
      "Emma\tF\t20344\t2005\n",
      "Madison\tF\t19568\t2005\n",
      "Abigail\tF\t15749\t2005\n",
      "Olivia\tF\t15693\t2005\n"
     ]
    }
   ],
   "source": [
    "!head -n 5 name-af"
   ]
  },
  {
   "cell_type": "code",
   "execution_count": null,
   "id": "335a7b38-0231-4dc8-9518-b57e854f4bfc",
   "metadata": {},
   "outputs": [],
   "source": []
  }
 ],
 "metadata": {
  "kernelspec": {
   "display_name": "Python 3 (ipykernel)",
   "language": "python",
   "name": "python3"
  },
  "language_info": {
   "codemirror_mode": {
    "name": "ipython",
    "version": 3
   },
   "file_extension": ".py",
   "mimetype": "text/x-python",
   "name": "python",
   "nbconvert_exporter": "python",
   "pygments_lexer": "ipython3",
   "version": "3.9.7"
  }
 },
 "nbformat": 4,
 "nbformat_minor": 5
}
