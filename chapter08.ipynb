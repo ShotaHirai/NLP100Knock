{
 "cells": [
  {
   "cell_type": "markdown",
   "metadata": {},
   "source": [
    "# 第8章: ニューラルネット\n",
    "第6章で取り組んだニュース記事のカテゴリ分類を題材として，ニューラルネットワークでカテゴリ分類モデルを実装する．なお，この章ではPyTorch, TensorFlow, Chainerなどの機械学習プラットフォームを活用せよ．"
   ]
  },
  {
   "cell_type": "code",
   "execution_count": 1,
   "metadata": {},
   "outputs": [
    {
     "name": "stderr",
     "output_type": "stream",
     "text": [
      "C:\\Users\\kotem\\AppData\\Local\\Packages\\PythonSoftwareFoundation.Python.3.9_qbz5n2kfra8p0\\LocalCache\\local-packages\\Python39\\site-packages\\tqdm\\auto.py:22: TqdmWarning: IProgress not found. Please update jupyter and ipywidgets. See https://ipywidgets.readthedocs.io/en/stable/user_install.html\n",
      "  from .autonotebook import tqdm as notebook_tqdm\n"
     ]
    }
   ],
   "source": [
    "# 再開するときに実行するコード\n",
    "import torch\n",
    "from torch import nn\n",
    "from torch import optim\n",
    "import string\n",
    "import pandas as pd\n",
    "import numpy as np\n",
    "from sklearn.metrics import accuracy_score\n",
    "import matplotlib.pyplot as plt\n",
    "from torch.utils.data import TensorDataset, DataLoader\n",
    "\n",
    "# 保存されたファイルを読み込み\n",
    "y_train = torch.load(\"data/y_train.pt\")\n",
    "x_train = torch.load(\"data/x_train.pt\")\n",
    "y_test = torch.load(\"data/y_test.pt\")\n",
    "x_test = torch.load(\"data/x_test.pt\")\n",
    "y_valid = torch.load(\"data/y_valid.pt\")\n",
    "x_valid = torch.load(\"data/x_valid.pt\")\n",
    "\n",
    "class SingleNN(torch.nn.Module):\n",
    "    def __init__(self, d_in, d_out):\n",
    "        super().__init__()\n",
    "        self.fc = torch.nn.Linear(d_in, d_out, bias=False) # 全結合層\n",
    "        torch.nn.init.normal_(self.fc.weight, 0.0, 1.0)\n",
    "        \n",
    "    def forward(self, x):\n",
    "        x = self.fc(x)\n",
    "        return x\n",
    "\n",
    "criterion = nn.CrossEntropyLoss() # クロスエントロピー関数"
   ]
  },
  {
   "cell_type": "markdown",
   "metadata": {},
   "source": [
    "## 70. 単語ベクトルの和による特徴量"
   ]
  },
  {
   "cell_type": "markdown",
   "metadata": {},
   "source": [
    "https://yutaroogawa.github.io/pytorch_tutorials_jp/　チュートリアル"
   ]
  },
  {
   "cell_type": "code",
   "execution_count": 2,
   "metadata": {},
   "outputs": [],
   "source": [
    "import gensim\n",
    "# 学習済みモデルを使う場合はKeyedVectors.load_word2vec_format\n",
    "model = gensim.models.KeyedVectors.load_word2vec_format(\"data/GoogleNews-vectors-negative300.bin\",binary=True)"
   ]
  },
  {
   "cell_type": "code",
   "execution_count": 3,
   "metadata": {},
   "outputs": [],
   "source": [
    "import torch\n",
    "from torch import nn\n",
    "from torch import optim\n",
    "import string\n",
    "import pandas as pd\n",
    "import numpy as np"
   ]
  },
  {
   "cell_type": "code",
   "execution_count": 4,
   "metadata": {},
   "outputs": [
    {
     "name": "stdout",
     "output_type": "stream",
     "text": [
      "torch.Size([1334, 300])\n",
      "tensor([[ 0.0419,  0.0430,  0.0165,  ..., -0.0242, -0.0294, -0.0309],\n",
      "        [ 0.0318, -0.0128,  0.0698,  ..., -0.0695, -0.0061, -0.0018],\n",
      "        [-0.0045,  0.0548,  0.0844,  ...,  0.1036,  0.0515, -0.0463],\n",
      "        ...,\n",
      "        [-0.0159,  0.0722,  0.0532,  ..., -0.0231,  0.0788, -0.0031],\n",
      "        [ 0.0020,  0.0891, -0.0584,  ...,  0.0133,  0.0556,  0.0458],\n",
      "        [ 0.0993,  0.0330,  0.0284,  ..., -0.0136,  0.0859,  0.0154]])\n",
      "torch.Size([1334])\n",
      "tensor([1, 3, 0,  ..., 2, 2, 1])\n"
     ]
    }
   ],
   "source": [
    "# 記事名を単語に分割してmodelにいれ、ベクトルを取得後に平均をとる\n",
    "def ave_emb(text):\n",
    "    table = str.maketrans(string.punctuation, ' '*len(string.punctuation))\n",
    "    words = text.translate(table).split()  # 記号をスペースに置換後、スペースで分割してリスト化\n",
    "    vec = [model[word] for word in words if word in model] # 単語ごとにベクトル化\n",
    "    return torch.tensor(sum(vec)/len(vec)) # 平均ベクトルをtorch型に変換して出力\n",
    "\n",
    "X_train = pd.read_table(\"data/train.txt\", header=None)\n",
    "X_valid = pd.read_table(\"data/valid.txt\", header=None)\n",
    "X_test = pd.read_table(\"data/test.txt\", header=None)\n",
    "Column = [\"TITLE\", \"CATEGORY\"]\n",
    "X_train.columns = Column\n",
    "X_valid.columns = Column\n",
    "X_test.columns = Column\n",
    "\n",
    "# 正解ラベルの作成\n",
    "category_dict = {'b': 0, 't': 1, 'e':2, 'm':3}\n",
    "y_train = torch.tensor(X_train[\"CATEGORY\"].map(lambda x: category_dict[x]).values)\n",
    "y_valid = torch.tensor(X_valid[\"CATEGORY\"].map(lambda x: category_dict[x]).values)\n",
    "y_test = torch.tensor(X_test[\"CATEGORY\"].map(lambda x: category_dict[x]).values)\n",
    "\n",
    "# 特徴ベクトルの作成\n",
    "x_train = torch.stack([ave_emb(text) for text in X_train[\"TITLE\"]])\n",
    "x_valid = torch.stack([ave_emb(text) for text in X_valid[\"TITLE\"]])\n",
    "x_test = torch.stack([ave_emb(text) for text in X_test[\"TITLE\"]])\n",
    "\n",
    "print(x_test.size())\n",
    "print(x_test)\n",
    "print(y_test.size())\n",
    "print(y_test)\n",
    "\n",
    "# 保存\n",
    "torch.save(x_train, 'data/x_train.pt')\n",
    "torch.save(x_valid, 'data/x_valid.pt')\n",
    "torch.save(x_test, 'data/x_test.pt')\n",
    "torch.save(y_train, 'data/y_train.pt')\n",
    "torch.save(y_valid, 'data/y_valid.pt')\n",
    "torch.save(y_test, 'data/y_test.pt')"
   ]
  },
  {
   "cell_type": "markdown",
   "metadata": {},
   "source": [
    "## 71. 単層ニューラルネットワークによる予測\n",
    "d = 300, L = 4"
   ]
  },
  {
   "cell_type": "code",
   "execution_count": 5,
   "metadata": {},
   "outputs": [
    {
     "name": "stdout",
     "output_type": "stream",
     "text": [
      "y_hat_1 tensor([[0.6545, 0.0447, 0.2201, 0.0807]], grad_fn=<SoftmaxBackward0>)\n",
      "Y_hat tensor([[0.6545, 0.0447, 0.2201, 0.0807],\n",
      "        [0.7681, 0.0351, 0.0445, 0.1523],\n",
      "        [0.6710, 0.1388, 0.0712, 0.1190],\n",
      "        [0.1751, 0.1660, 0.4002, 0.2587]], grad_fn=<SoftmaxBackward0>)\n"
     ]
    }
   ],
   "source": [
    "class SingleNN(torch.nn.Module):\n",
    "    def __init__(self, d_in, d_out):\n",
    "        super().__init__()\n",
    "        self.fc = torch.nn.Linear(d_in, d_out, bias=False) # 全結合層\n",
    "        torch.nn.init.normal_(self.fc.weight, 0.0, 1.0)\n",
    "        \n",
    "    def forward(self, x):\n",
    "        x = self.fc(x)\n",
    "        return x\n",
    "\n",
    "# 保存されたファイルを読み込み\n",
    "y_train = torch.load(\"data/y_train.pt\")\n",
    "x_train = torch.load(\"data/x_train.pt\")\n",
    "\n",
    "network = SingleNN(300, 4)\n",
    "print(\"y_hat_1\", torch.softmax(network(x_train[:1]), dim=1))\n",
    "print(\"Y_hat\", torch.softmax(network(x_train[:4]), dim=1))"
   ]
  },
  {
   "cell_type": "markdown",
   "metadata": {},
   "source": [
    "## 72. 損失と勾配の計算"
   ]
  },
  {
   "cell_type": "code",
   "execution_count": 6,
   "metadata": {},
   "outputs": [
    {
     "name": "stdout",
     "output_type": "stream",
     "text": [
      "0.4238607585430145\n",
      "tensor([[ 0.0059, -0.0455,  0.0251,  ..., -0.0136, -0.0077, -0.0063],\n",
      "        [-0.0008,  0.0059, -0.0032,  ...,  0.0018,  0.0010,  0.0008],\n",
      "        [-0.0037,  0.0290, -0.0160,  ...,  0.0087,  0.0049,  0.0040],\n",
      "        [-0.0014,  0.0106, -0.0059,  ...,  0.0032,  0.0018,  0.0015]])\n"
     ]
    }
   ],
   "source": [
    "criterion = nn.CrossEntropyLoss() # クロスエントロピー関数\n",
    "loss = criterion(network(x_train[:1]), y_train[:1]) # 誤差を求める\n",
    "network.zero_grad() # 勾配を0に\n",
    "loss.backward() # 逆伝播(勾配を求める)\n",
    "print(loss.item())\n",
    "print(network.fc.weight.grad)"
   ]
  },
  {
   "cell_type": "code",
   "execution_count": 7,
   "metadata": {},
   "outputs": [
    {
     "name": "stdout",
     "output_type": "stream",
     "text": [
      "0.7072722911834717\n",
      "tensor([[ 0.0189, -0.0372,  0.0134,  ..., -0.0035, -0.0071, -0.0033],\n",
      "        [-0.0045,  0.0064, -0.0020,  ..., -0.0001,  0.0033,  0.0014],\n",
      "        [-0.0061,  0.0212, -0.0057,  ...,  0.0023,  0.0018,  0.0017],\n",
      "        [-0.0083,  0.0096, -0.0057,  ...,  0.0013,  0.0020,  0.0002]])\n"
     ]
    }
   ],
   "source": [
    "loss = criterion(network(x_train[:4]), y_train[:4])\n",
    "network.zero_grad()\n",
    "loss.backward()\n",
    "print(loss.item())\n",
    "print(network.fc.weight.grad)"
   ]
  },
  {
   "cell_type": "markdown",
   "metadata": {},
   "source": [
    "## 73. 確率的勾配降下法による学習\n",
    "確率的勾配降下法（SGD: Stochastic Gradient Descent）を用いて，行列W\n",
    "を学習せよ．なお，学習は適当な基準で終了させればよい（例えば「100エポックで終了」など）．"
   ]
  },
  {
   "cell_type": "code",
   "execution_count": 8,
   "metadata": {},
   "outputs": [
    {
     "name": "stdout",
     "output_type": "stream",
     "text": [
      "epoch:0, loss:1.4949002265930176\n",
      "epoch:500, loss:0.8940460681915283\n",
      "epoch:1000, loss:0.8584733605384827\n",
      "epoch:1500, loss:0.8460538983345032\n",
      "epoch:2000, loss:0.8396820425987244\n",
      "epoch:2500, loss:0.8354830741882324\n",
      "epoch:3000, loss:0.8323925137519836\n",
      "epoch:3500, loss:0.8299652934074402\n",
      "epoch:4000, loss:0.8279685378074646\n",
      "epoch:4500, loss:0.8262710571289062\n",
      "epoch:5000, loss:0.8247959017753601\n",
      "epoch:5500, loss:0.8234966397285461\n",
      "epoch:6000, loss:0.8223439455032349\n",
      "epoch:6500, loss:0.8213163018226624\n",
      "epoch:7000, loss:0.8203933835029602\n",
      "epoch:7500, loss:0.8195577263832092\n",
      "epoch:8000, loss:0.8187947869300842\n",
      "epoch:8500, loss:0.8180933594703674\n",
      "epoch:9000, loss:0.8174439668655396\n",
      "epoch:9500, loss:0.8168391585350037\n"
     ]
    }
   ],
   "source": [
    "network = SingleNN(300, 4)\n",
    "optimizer = optim.SGD(network.parameters(), lr=10) # 学習率lr = 10\n",
    "for epoch in range(10000):\n",
    "    optimizer.zero_grad() # 勾配を0に\n",
    "    out = network(x_train) # 順伝搬\n",
    "    pred = torch.softmax(out, dim=-1)\n",
    "    loss = criterion(pred, y_train) # 誤差を求める\n",
    "    loss.backward() # 逆伝播(勾配を求める)\n",
    "    optimizer.step() # パラメータを更新\n",
    "    if epoch % 500 == 0:\n",
    "        print(\"epoch:{}, loss:{}\".format(epoch,loss))"
   ]
  },
  {
   "cell_type": "markdown",
   "metadata": {},
   "source": [
    "## 74. 正解率の計測\n",
    "問題73で求めた行列を用いて学習データおよび評価データの事例を分類したとき，その正解率をそれぞれ求めよ．"
   ]
  },
  {
   "cell_type": "code",
   "execution_count": 26,
   "metadata": {},
   "outputs": [
    {
     "name": "stdout",
     "output_type": "stream",
     "text": [
      "訓練データ正解率:94.06701099192159%\n",
      "テストデータ正解率:89.39554612937434%\n"
     ]
    }
   ],
   "source": [
    "correct = 0\n",
    "y = torch.softmax(network(x_train), dim=1)\n",
    "for i, (x, t) in enumerate(zip(x_train, y_train)):\n",
    "    correct += (y.argmax(1)[i] == t).sum().item()\n",
    "print(\"訓練データ正解率:{}%\".format(str(correct/(i+1)*100)))\n",
    "correct = 0\n",
    "y = torch.softmax(network(x_test), dim=1)\n",
    "for i, (x, t) in enumerate(zip(x_test, y_test)):\n",
    "    correct += (y.argmax(1)[i] == t).sum().item()\n",
    "print(\"テストデータ正解率:{}%\".format(str(correct/(i+1)*100)))"
   ]
  },
  {
   "cell_type": "code",
   "execution_count": 20,
   "metadata": {},
   "outputs": [
    {
     "name": "stdout",
     "output_type": "stream",
     "text": [
      "0.9408025427095749\n",
      "0.8950159066808059\n"
     ]
    }
   ],
   "source": [
    "from sklearn.metrics import accuracy_score\n",
    "y = network(x_train)\n",
    "pred = torch.softmax(y, dim=1)\n",
    "pred = pred.argmax(1)\n",
    "print(accuracy_score(pred.detach().numpy().copy(),y_train.detach().numpy().copy()))\n",
    "\n",
    "y = network(x_test)\n",
    "pred = torch.softmax(y, dim=1)\n",
    "pred = pred.argmax(1)\n",
    "print(accuracy_score(pred.detach().numpy().copy(),y_test.detach().numpy().copy()))"
   ]
  },
  {
   "cell_type": "markdown",
   "metadata": {},
   "source": [
    "## 75. 損失と正解率のプロット\n",
    "問題73のコードを改変し，各エポックのパラメータ更新が完了するたびに，訓練データでの損失，正解率，検証データでの損失，正解率をグラフにプロットし，学習の進捗状況を確認できるようにせよ．"
   ]
  },
  {
   "cell_type": "code",
   "execution_count": 27,
   "metadata": {},
   "outputs": [
    {
     "name": "stdout",
     "output_type": "stream",
     "text": [
      "epoch:0, loss:1.3391976356506348\n",
      "epoch:500, loss:0.9018835425376892\n",
      "epoch:1000, loss:0.8624177575111389\n",
      "epoch:1500, loss:0.8508394956588745\n",
      "epoch:2000, loss:0.8444251418113708\n",
      "epoch:2500, loss:0.8399308323860168\n",
      "epoch:3000, loss:0.8364390730857849\n",
      "epoch:3500, loss:0.8335774540901184\n",
      "epoch:4000, loss:0.83116614818573\n",
      "epoch:4500, loss:0.8290957808494568\n",
      "epoch:5000, loss:0.8272808790206909\n",
      "epoch:5500, loss:0.8256747722625732\n",
      "epoch:6000, loss:0.8242918848991394\n",
      "epoch:6500, loss:0.8230683207511902\n",
      "epoch:7000, loss:0.8219637274742126\n",
      "epoch:7500, loss:0.8209545612335205\n",
      "epoch:8000, loss:0.8200244307518005\n",
      "epoch:8500, loss:0.8191596269607544\n",
      "epoch:9000, loss:0.8183489441871643\n",
      "epoch:9500, loss:0.8175906538963318\n"
     ]
    },
    {
     "data": {
      "image/png": "[encoded data removed]",
      "text/plain": [
       "<Figure size 432x288 with 2 Axes>"
      ]
     },
     "metadata": {
      "needs_background": "light"
     },
     "output_type": "display_data"
    }
   ],
   "source": [
    "import matplotlib.pyplot as plt\n",
    "from sklearn.metrics import accuracy_score\n",
    "network = SingleNN(300, 4)\n",
    "optimizer = optim.SGD(network.parameters(), lr=10) # 学習率lr = 10\n",
    "# 損失のログ\n",
    "record_loss_train = []\n",
    "record_loss_valid = []\n",
    "record_acc_train = []\n",
    "record_acc_valid = []\n",
    "\n",
    "\n",
    "for epoch in range(10000):\n",
    "    optimizer.zero_grad() # 勾配を0に\n",
    "\n",
    "    out = network(x_train) # 順伝搬\n",
    "    pred = torch.softmax(out, dim=1)\n",
    "    loss = criterion(pred, y_train) # 誤差を求める\n",
    "    loss.backward() # 逆伝播(勾配を求める)\n",
    "    optimizer.step() # パラメータを更新\n",
    "    pred = pred.argmax(1)\n",
    "    record_loss_train.append(loss.item()) # lossの追加\n",
    "    # detachはtensor型から勾配情報を抜いたもの\n",
    "    record_acc_train.append(float(accuracy_score(pred.detach().numpy().copy(),y_train.detach().numpy().copy()))) # accuracyの追加\n",
    "\n",
    "    valid_out = network(x_valid)\n",
    "    valid_pred = torch.softmax(valid_out, dim=1) \n",
    "    valid_loss = criterion(valid_pred, y_valid)\n",
    "    valid_pred = valid_pred.argmax(1)\n",
    "    record_loss_valid.append(valid_loss.item()) # lossの追加\n",
    "    record_acc_valid.append(float(accuracy_score(valid_pred.detach().numpy().copy(),y_valid.detach().numpy().copy()))) # accuracyの追加\n",
    "\n",
    "    if epoch % 500 == 0:\n",
    "        print(\"epoch:{}, loss:{}\".format(epoch,loss))\n",
    "\n",
    "Figure = plt.figure()\n",
    "ax1 = Figure.add_subplot(1,2,1)\n",
    "ax2 = Figure.add_subplot(1,2,2)\n",
    "\n",
    "\n",
    "ax1.plot(range(len(record_loss_train)), record_loss_train, label=\"Train\")\n",
    "ax1.plot(range(len(record_loss_valid)), record_loss_valid, label=\"Valid\")\n",
    "ax2.plot(range(len(record_acc_train)), record_acc_train, label=\"Train\")\n",
    "ax2.plot(range(len(record_acc_valid)), record_acc_valid, label=\"Valid\")\n",
    "\n",
    "ax1.set_title(\"loss\")\n",
    "ax2.set_title(\"accuracy\")\n",
    "\n",
    "ax1.legend()\n",
    "ax2.legend()\n",
    "plt.show()"
   ]
  },
  {
   "cell_type": "markdown",
   "metadata": {},
   "source": [
    "## 76. チェックポイント\n",
    "問題75のコードを改変し，各エポックのパラメータ更新が完了するたびに，チェックポイント（学習途中のパラメータ（重み行列など）の値や最適化アルゴリズムの内部状態）をファイルに書き出せ．"
   ]
  },
  {
   "cell_type": "code",
   "execution_count": 5,
   "metadata": {},
   "outputs": [
    {
     "name": "stdout",
     "output_type": "stream",
     "text": [
      "epoch:0, loss:1.3854334354400635\n",
      "epoch:500, loss:0.8800615072250366\n",
      "epoch:1000, loss:0.8578385710716248\n",
      "epoch:1500, loss:0.8483337163925171\n",
      "epoch:2000, loss:0.8425703048706055\n",
      "epoch:2500, loss:0.8383642435073853\n",
      "epoch:3000, loss:0.8349577784538269\n",
      "epoch:3500, loss:0.8321800231933594\n",
      "epoch:4000, loss:0.829876184463501\n",
      "epoch:4500, loss:0.827911376953125\n",
      "epoch:5000, loss:0.8262115120887756\n",
      "epoch:5500, loss:0.8247236013412476\n",
      "epoch:6000, loss:0.8234049081802368\n",
      "epoch:6500, loss:0.8222243189811707\n",
      "epoch:7000, loss:0.8211585283279419\n",
      "epoch:7500, loss:0.8201895952224731\n",
      "epoch:8000, loss:0.8193010687828064\n",
      "epoch:8500, loss:0.8184787034988403\n",
      "epoch:9000, loss:0.8177101612091064\n",
      "epoch:9500, loss:0.8169859647750854\n"
     ]
    }
   ],
   "source": [
    "import matplotlib.pyplot as plt\n",
    "from sklearn.metrics import accuracy_score\n",
    "network = SingleNN(300, 4)\n",
    "optimizer = optim.SGD(network.parameters(), lr=10) # 学習率lr = 10\n",
    "\n",
    "\n",
    "\n",
    "for epoch in range(10000):\n",
    "    optimizer.zero_grad() # 勾配を0に\n",
    "\n",
    "    out = network(x_train) # 順伝搬\n",
    "    pred = torch.softmax(out, dim=1)\n",
    "    loss = criterion(pred, y_train) # 誤差を求める\n",
    "    loss.backward() # 逆伝播(勾配を求める)\n",
    "    optimizer.step() # パラメータを更新\n",
    "    pred = pred.argmax(1)\n",
    "    # 学習情報の保存\n",
    "    outfile = f'data/ans76/check_point_epoch_{epoch+1}.pt'\n",
    "    torch.save({'epoch': epoch,\n",
    "                'model_state_dict': network.state_dict(),\n",
    "                'optimizer_state_dict': optimizer.state_dict(),\n",
    "                }, outfile)\n",
    "\n",
    "    if epoch % 500 == 0:\n",
    "        print(\"epoch:{}, loss:{}\".format(epoch,loss))\n"
   ]
  },
  {
   "cell_type": "markdown",
   "metadata": {},
   "source": [
    "cpuでやったら14分かかった・・・"
   ]
  },
  {
   "cell_type": "markdown",
   "metadata": {},
   "source": [
    "## 77. ミニバッチ化\n",
    "問題76のコードを改変し，B\n",
    "事例ごとに損失・勾配を計算し，行列W\n",
    "の値を更新せよ（ミニバッチ化）．B\n",
    "の値を1,2,4,8,…\n",
    "と変化させながら，1エポックの学習に要する時間を比較せよ．"
   ]
  },
  {
   "cell_type": "code",
   "execution_count": 24,
   "metadata": {},
   "outputs": [
    {
     "name": "stdout",
     "output_type": "stream",
     "text": [
      "start:batch_size 1\n",
      "start:batch_size 2\n",
      "start:batch_size 4\n",
      "start:batch_size 8\n",
      "start:batch_size 16\n",
      "start:batch_size 32\n",
      "start:batch_size 64\n",
      "start:batch_size 128\n",
      "start:batch_size 256\n",
      "start:batch_size 512\n"
     ]
    }
   ],
   "source": [
    "import matplotlib.pyplot as plt\n",
    "from sklearn.metrics import accuracy_score\n",
    "import torch.utils.data\n",
    "import time\n",
    "\n",
    "ds_train = torch.utils.data.TensorDataset(x_train, y_train)\n",
    "\n",
    "batch_time = []\n",
    "for batch_size in [2**i for i in range(0,10)]:\n",
    "    print(f\"start:batch_size {batch_size}\")\n",
    "    network = SingleNN(300, 4)\n",
    "    optimizer = optim.SGD(network.parameters(), lr=10) # 学習率lr = 10\n",
    "    # Dataloaderの設定\n",
    "    train_loader = DataLoader(ds_train, batch_size=batch_size, shuffle=True)\n",
    "    t_start = time.time()\n",
    "    for epoch in range(100):\n",
    "        for x, t in train_loader: # ミニバッチ(x, t)を取り出す\n",
    "            optimizer.zero_grad() # 勾配を0に\n",
    "            out = network(x) # 順伝搬\n",
    "            pred = torch.softmax(out, dim=1)\n",
    "            loss = criterion(pred, t) # 誤差を求める\n",
    "            loss.backward() # 逆伝播(勾配を求める)\n",
    "            optimizer.step() # パラメータを更新\n",
    "    t_end = time.time()\n",
    "    batch_time.append([batch_size, (t_end-t_start)/10])"
   ]
  },
  {
   "cell_type": "code",
   "execution_count": 28,
   "metadata": {},
   "outputs": [
    {
     "data": {
      "image/png": "[encoded data removed]",
      "text/plain": [
       "<Figure size 432x288 with 1 Axes>"
      ]
     },
     "metadata": {
      "needs_background": "light"
     },
     "output_type": "display_data"
    }
   ],
   "source": [
    "plt.plot([batch_size for batch_size,_ in batch_time],[time for _,time in batch_time], \"-or\")\n",
    "plt.xlabel('batch size')\n",
    "plt.ylabel('time')\n",
    "plt.yscale('log')\n",
    "plt.show()"
   ]
  },
  {
   "cell_type": "code",
   "execution_count": 22,
   "metadata": {},
   "outputs": [
    {
     "name": "stdout",
     "output_type": "stream",
     "text": [
      "start:batch_size 1\n",
      "start:batch_size 2\n",
      "start:batch_size 4\n",
      "start:batch_size 8\n",
      "start:batch_size 16\n",
      "start:batch_size 32\n",
      "start:batch_size 64\n",
      "start:batch_size 128\n",
      "start:batch_size 256\n",
      "start:batch_size 512\n"
     ]
    }
   ],
   "source": [
    "import matplotlib.pyplot as plt\n",
    "from sklearn.metrics import accuracy_score\n",
    "import torch.utils.data\n",
    "import time\n",
    "\n",
    "ds_train = torch.utils.data.TensorDataset(x_train, y_train)\n",
    "\n",
    "batch_time = []\n",
    "for batch_size in [2**i for i in range(0,10)]:\n",
    "    print(f\"start:batch_size {batch_size}\")\n",
    "    network = SingleNN(300, 4)\n",
    "    optimizer = optim.SGD(network.parameters(), lr=10) # 学習率lr = 10\n",
    "    # Dataloaderの設定\n",
    "    train_loader = DataLoader(ds_train, batch_size=batch_size, shuffle=True)\n",
    "    t_start = time.time()\n",
    "    for epoch in range(10):\n",
    "        for x, t in train_loader: # ミニバッチ(x, t)を取り出す\n",
    "            optimizer.zero_grad() # 勾配を0に\n",
    "            out = network(x) # 順伝搬\n",
    "            pred = torch.softmax(out, dim=1)\n",
    "            loss = criterion(pred, t) # 誤差を求める\n",
    "            loss.backward() # 逆伝播(勾配を求める)\n",
    "            optimizer.step() # パラメータを更新\n",
    "    t_end = time.time()\n",
    "    batch_time.append([batch_size, (t_end-t_start)/10])"
   ]
  },
  {
   "cell_type": "code",
   "execution_count": 16,
   "metadata": {},
   "outputs": [
    {
     "data": {
      "image/png": "[encoded data removed]",
      "text/plain": [
       "<Figure size 432x288 with 1 Axes>"
      ]
     },
     "metadata": {
      "needs_background": "light"
     },
     "output_type": "display_data"
    }
   ],
   "source": [
    "plt.plot([batch_size for batch_size,_ in batch_time],[time for _,time in batch_time], \"-or\")\n",
    "plt.xlabel('batch size')\n",
    "plt.ylabel('time')\n",
    "plt.yscale('log')\n",
    "plt.show()"
   ]
  },
  {
   "cell_type": "markdown",
   "metadata": {},
   "source": [
    "## 78. GPU上での学習\n",
    "問題77のコードを改変し，GPU上で学習を実行せよ．"
   ]
  },
  {
   "cell_type": "code",
   "execution_count": 39,
   "metadata": {},
   "outputs": [
    {
     "name": "stdout",
     "output_type": "stream",
     "text": [
      "cuda:0\n",
      "start:batch_size 1\n",
      "start:batch_size 2\n",
      "start:batch_size 4\n",
      "start:batch_size 8\n",
      "start:batch_size 16\n",
      "start:batch_size 32\n",
      "start:batch_size 64\n",
      "start:batch_size 128\n",
      "start:batch_size 256\n",
      "start:batch_size 512\n"
     ]
    }
   ],
   "source": [
    "import matplotlib.pyplot as plt\n",
    "from sklearn.metrics import accuracy_score\n",
    "import torch.utils.data\n",
    "import time\n",
    "\n",
    "device = torch.device('cuda:0' if torch.cuda.is_available() else 'cpu')\n",
    "print(device)\n",
    "x_train = x_train.to(device)\n",
    "y_train = y_train.to(device)\n",
    "ds_train = torch.utils.data.TensorDataset(x_train, y_train)\n",
    "batch_time_gpu = []\n",
    "for batch_size in [2**i for i in range(0,10)]:\n",
    "    print(f\"start:batch_size {batch_size}\")\n",
    "    network = SingleNN(300, 4)\n",
    "    network = network.to(device)  # GPU対応\n",
    "    optimizer = optim.SGD(network.parameters(), lr=10) # 学習率lr = 10\n",
    "    # Dataloaderの設定\n",
    "    train_loader = DataLoader(ds_train, batch_size=batch_size, shuffle=True)\n",
    "    t_start = time.time()\n",
    "    for epoch in range(10):\n",
    "        for x, t in train_loader: # ミニバッチ(x, t)を取り出す\n",
    "            x, t = x.to(device), t.to(device) # GPU対応\n",
    "            optimizer.zero_grad() # 勾配を0に\n",
    "            out = network(x) # 順伝搬\n",
    "            pred = torch.softmax(out, dim=1)\n",
    "            loss = criterion(pred, t) # 誤差を求める\n",
    "            loss.backward() # 逆伝播(勾配を求める)\n",
    "            optimizer.step() # パラメータを更新\n",
    "    t_end = time.time()\n",
    "    batch_time_gpu.append([batch_size, (t_end-t_start)/10])"
   ]
  },
  {
   "cell_type": "code",
   "execution_count": null,
   "metadata": {},
   "outputs": [],
   "source": [
    "def train(epoch, model, optimizer, loss_fn, device):\n",
    "    device = torch.device(device)\n",
    "    model.train()\n",
    "    model.to(device)\n",
    "    \n",
    "    for i, (X, y) in enumerate(loader_train):\n",
    "        if torch.cuda.is_available():\n",
    "            X, y = X.to(device), y.to(device)\n",
    "        optimizer.zero_grad()\n",
    "        y_hat = model(X)\n",
    "        loss = loss_fn(y_hat, y)\n",
    "        loss.backward()\n",
    "        optimizer.step()"
   ]
  },
  {
   "cell_type": "code",
   "execution_count": 40,
   "metadata": {},
   "outputs": [
    {
     "data": {
      "image/png": "[encoded data removed]",
      "text/plain": [
       "<Figure size 432x288 with 1 Axes>"
      ]
     },
     "metadata": {
      "needs_background": "light"
     },
     "output_type": "display_data"
    }
   ],
   "source": [
    "plt.plot([batch_size for batch_size,_ in batch_time],[time for _,time in batch_time_gpu], \"-or\", label=\"gpu\")\n",
    "plt.plot([batch_size for batch_size,_ in batch_time],[time for _,time in batch_time], \"-or\", label=\"cpu\", color='forestgreen')\n",
    "plt.xlabel('batch size')\n",
    "plt.ylabel('time')\n",
    "plt.yscale('log')\n",
    "plt.legend()\n",
    "plt.show()"
   ]
  },
  {
   "cell_type": "code",
   "execution_count": 30,
   "metadata": {},
   "outputs": [
    {
     "name": "stdout",
     "output_type": "stream",
     "text": [
      "cuda:0\n"
     ]
    }
   ],
   "source": [
    "print(device)"
   ]
  },
  {
   "cell_type": "markdown",
   "metadata": {},
   "source": [
    "## 79. 多層ニューラルネットワーク\n",
    "問題78のコードを改変し，バイアス項の導入や多層化など，ニューラルネットワークの形状を変更しながら，高性能なカテゴリ分類器を構築せよ．"
   ]
  },
  {
   "cell_type": "code",
   "execution_count": 2,
   "id": "0485b803",
   "metadata": {},
   "outputs": [],
   "source": [
    "import torch.nn.functional as F\n",
    "class MultiNet(nn.Module):\n",
    "    def __init__(self, n_in, n_mid, n_out):\n",
    "        super(MultiNet, self).__init__()\n",
    "        self.fc1 = nn.Linear(n_in, n_mid)\n",
    "        self.fc2 = nn.Linear(n_mid, n_mid)\n",
    "        self.fc3 = nn.Linear(n_mid, n_out)\n",
    "\n",
    "    def forward(self, x):\n",
    "        h1 = F.relu(self.fc1(x))\n",
    "        h2 = F.relu(self.fc2(h1))\n",
    "        output = self.fc3(h2)\n",
    "        return output"
   ]
  },
  {
   "cell_type": "code",
   "execution_count": 3,
   "metadata": {},
   "outputs": [
    {
     "name": "stderr",
     "output_type": "stream",
     "text": [
      "No artists with labels found to put in legend.  Note that artists whose label start with an underscore are ignored when legend() is called with no argument.\n"
     ]
    },
    {
     "name": "stdout",
     "output_type": "stream",
     "text": [
      "0.8907741251325557\n"
     ]
    },
    {
     "data": {
      "image/png": "[encoded data removed]",
      "text/plain": [
       "<Figure size 432x288 with 2 Axes>"
      ]
     },
     "metadata": {
      "needs_background": "light"
     },
     "output_type": "display_data"
    }
   ],
   "source": [
    "import matplotlib.pyplot as plt\n",
    "from sklearn.metrics import accuracy_score\n",
    "import torch.utils.data\n",
    "\n",
    "\n",
    "ds_train = torch.utils.data.TensorDataset(x_train, y_train)\n",
    "train_loader = DataLoader(ds_train, batch_size=512, shuffle=True)\n",
    "\n",
    "record_loss_train = []\n",
    "record_loss_valid = []\n",
    "record_accuracy = []\n",
    "\n",
    "network = MultiNet(300, 100, 4)\n",
    "criterion = nn.CrossEntropyLoss()\n",
    "optimizer = optim.SGD(network.parameters(), lr=0.5) # 学習率lr = 10\n",
    "for epoch in range(250):\n",
    "    loss_train = 0\n",
    "    for j, (x, t) in enumerate(train_loader): # ミニバッチ(x, t)を取り出す\n",
    "        optimizer.zero_grad() # 勾配を0に\n",
    "        out = network(x) # 順伝搬\n",
    "        pred = torch.softmax(out, dim=1)\n",
    "        loss = criterion(pred, t) # 誤差を求める\n",
    "        loss_train += loss.item()\n",
    "        loss.backward() # 逆伝播(勾配を求める)\n",
    "        optimizer.step() # パラメータを更新\n",
    "    loss_train /= j+1\n",
    "    record_loss_train.append(loss_train)\n",
    "    valid_out = network(x_valid)\n",
    "    valid_pred = torch.softmax(valid_out, dim=1)\n",
    "    loss = criterion(valid_pred, y_valid) # 誤差を求める\n",
    "    valid_pred = valid_pred.argmax(1)\n",
    "    record_loss_valid.append(loss.item())\n",
    "    record_accuracy.append(float(accuracy_score(valid_pred.detach().numpy().copy(),y_valid.detach().numpy().copy())))\n",
    "\n",
    "y = network(x_test)\n",
    "pred = torch.softmax(y, dim=1)\n",
    "pred = pred.argmax(1)\n",
    "print(accuracy_score(pred.detach().numpy().copy(),y_test.detach().numpy().copy()))\n",
    "\n",
    "Figure = plt.figure()\n",
    "ax1 = Figure.add_subplot(1,2,1)\n",
    "ax2 = Figure.add_subplot(1,2,2)\n",
    "\n",
    "\n",
    "ax1.plot(range(len(record_loss_train)), record_loss_train, label=\"Train\")\n",
    "ax1.plot(range(len(record_loss_valid)), record_loss_valid, label=\"valid\")\n",
    "ax2.plot(range(len(record_accuracy)), record_accuracy)\n",
    "\n",
    "ax1.set_title(\"loss\")\n",
    "ax2.set_title(\"valid_accuracy\")\n",
    "\n",
    "ax1.legend()\n",
    "ax2.legend()\n",
    "plt.show()\n"
   ]
  },
  {
   "cell_type": "code",
   "execution_count": null,
   "metadata": {},
   "outputs": [],
   "source": []
  }
 ],
 "metadata": {
  "interpreter": {
   "hash": "6a88d36f0b6c14a664112e75b34dacd3ad9e7cff22ae60a5f34899f4f32ba98d"
  },
  "kernelspec": {
   "display_name": "Python 3",
   "language": "python",
   "name": "python3"
  },
  "language_info": {
   "codemirror_mode": {
    "name": "ipython",
    "version": 3
   },
   "file_extension": ".py",
   "mimetype": "text/x-python",
   "name": "python",
   "nbconvert_exporter": "python",
   "pygments_lexer": "ipython3",
   "version": "3.9.13"
  }
 },
 "nbformat": 4,
 "nbformat_minor": 5
}
