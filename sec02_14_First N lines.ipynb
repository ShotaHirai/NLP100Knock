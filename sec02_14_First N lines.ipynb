{
 "cells": [
  {
   "cell_type": "code",
   "execution_count": 1,
   "id": "b54a7344-aea4-4e81-b652-84fde7ac952a",
   "metadata": {},
   "outputs": [],
   "source": [
    "import os"
   ]
  },
  {
   "cell_type": "code",
   "execution_count": 2,
   "id": "3b969e67-b797-413b-89f4-13637bc6617c",
   "metadata": {},
   "outputs": [],
   "source": [
    "def n_lines(n):\n",
    "    f = open(\"popular-names.txt\", \"r\")\n",
    "    line_list = f.readlines()\n",
    "    \n",
    "    # 改行削除\n",
    "    for i in range(len(line_list)):\n",
    "        line_list[i] = line_list[i].replace(\"\\n\", \"\")\n",
    "    # 前から出力\n",
    "    for i in range(n):\n",
    "        print(line_list[i])"
   ]
  },
  {
   "cell_type": "code",
   "execution_count": 3,
   "id": "67cd3043-e2d6-4c01-9b57-498d5e41a2bc",
   "metadata": {},
   "outputs": [
    {
     "name": "stdout",
     "output_type": "stream",
     "text": [
      "Mary\tF\t7065\t1880\n",
      "Anna\tF\t2604\t1880\n",
      "Emma\tF\t2003\t1880\n",
      "Elizabeth\tF\t1939\t1880\n",
      "Minnie\tF\t1746\t1880\n"
     ]
    }
   ],
   "source": [
    "n_lines(5)"
   ]
  },
  {
   "cell_type": "code",
   "execution_count": 4,
   "id": "7fe2a024-cf58-44a9-9e76-1cdf581b70d8",
   "metadata": {},
   "outputs": [
    {
     "name": "stdout",
     "output_type": "stream",
     "text": [
      "Mary\tF\t7065\t1880\n",
      "Anna\tF\t2604\t1880\n",
      "Emma\tF\t2003\t1880\n",
      "Elizabeth\tF\t1939\t1880\n",
      "Minnie\tF\t1746\t1880\n"
     ]
    }
   ],
   "source": [
    "!head -n 5 popular-names.txt"
   ]
  },
  {
   "cell_type": "code",
   "execution_count": null,
   "id": "232a9295-15f5-4cfb-a152-f3b88edc4548",
   "metadata": {},
   "outputs": [],
   "source": []
  }
 ],
 "metadata": {
  "kernelspec": {
   "display_name": "Python 3 (ipykernel)",
   "language": "python",
   "name": "python3"
  },
  "language_info": {
   "codemirror_mode": {
    "name": "ipython",
    "version": 3
   },
   "file_extension": ".py",
   "mimetype": "text/x-python",
   "name": "python",
   "nbconvert_exporter": "python",
   "pygments_lexer": "ipython3",
   "version": "3.9.7"
  }
 },
 "nbformat": 4,
 "nbformat_minor": 5
}
