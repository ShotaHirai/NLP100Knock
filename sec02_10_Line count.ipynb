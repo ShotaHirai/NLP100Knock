{
 "cells": [
  {
   "cell_type": "code",
   "execution_count": 18,
   "id": "392c48a2",
   "metadata": {},
   "outputs": [
    {
     "name": "stdout",
     "output_type": "stream",
     "text": [
      "    2779   11120   55025 popular-names.txt\n"
     ]
    }
   ],
   "source": [
    "import os\n",
    "\n",
    "!wc popular-names.txt\n",
    "# wcコマンドは改行の数"
   ]
  },
  {
   "cell_type": "code",
   "execution_count": 19,
   "id": "469ae8cd",
   "metadata": {},
   "outputs": [
    {
     "name": "stdout",
     "output_type": "stream",
     "text": [
      "Mary\tF\t7065\t1880\n",
      " Logan\tM\t12352\t2018\n",
      "2780\n"
     ]
    }
   ],
   "source": [
    "f = open(\"popular-names.txt\",\"r\")\n",
    "datalist = f.readlines()\n",
    "Line = len(datalist)\n",
    "print(datalist[0],datalist[-1])\n",
    "print(Line)\n",
    "# 改行で区切った要素数"
   ]
  },
  {
   "cell_type": "code",
   "execution_count": null,
   "id": "7f877a90-8fa0-4528-bdfd-6597b25c86b0",
   "metadata": {},
   "outputs": [],
   "source": []
  },
  {
   "cell_type": "code",
   "execution_count": null,
   "id": "59431bc7-0d7e-455b-ab3e-ba7b58be3018",
   "metadata": {},
   "outputs": [],
   "source": []
  },
  {
   "cell_type": "code",
   "execution_count": null,
   "id": "f87e6915-2911-4bea-9f96-fdbcc50430d7",
   "metadata": {},
   "outputs": [],
   "source": []
  }
 ],
 "metadata": {
  "kernelspec": {
   "display_name": "Python 3 (ipykernel)",
   "language": "python",
   "name": "python3"
  },
  "language_info": {
   "codemirror_mode": {
    "name": "ipython",
    "version": 3
   },
   "file_extension": ".py",
   "mimetype": "text/x-python",
   "name": "python",
   "nbconvert_exporter": "python",
   "pygments_lexer": "ipython3",
   "version": "3.9.7"
  }
 },
 "nbformat": 4,
 "nbformat_minor": 5
}
