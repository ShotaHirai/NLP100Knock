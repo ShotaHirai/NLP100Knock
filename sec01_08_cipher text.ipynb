{
 "cells": [
  {
   "cell_type": "code",
   "execution_count": 47,
   "id": "8123cc55",
   "metadata": {},
   "outputs": [],
   "source": [
    "def Encryption(Str):\n",
    "    length = len(Str)\n",
    "    rep_Str = \"\"\n",
    "    for i in range(length):\n",
    "        if Str[i].isalpha() and Str[i].islower():\n",
    "            rep_Str += chr(219-ord(Str[i]))\n",
    "        else:\n",
    "            rep_Str += Str[i]\n",
    "    return rep_Str\n",
    "\n",
    "def Decryption(Str):\n",
    "    length = len(Str)\n",
    "    rep_Str = \"\"\n",
    "    for i in range(length):\n",
    "        if Str[i].isalpha() and Str[i].islower():\n",
    "            rep_Str += chr(219-ord(Str[i]))\n",
    "        else:\n",
    "            rep_Str += Str[i]\n",
    "    return rep_Str"
   ]
  },
  {
   "cell_type": "code",
   "execution_count": 53,
   "id": "9523a77d",
   "metadata": {},
   "outputs": [
    {
     "data": {
      "text/plain": [
       "'Mb mznv rh 5'"
      ]
     },
     "execution_count": 53,
     "metadata": {},
     "output_type": "execute_result"
    }
   ],
   "source": [
    "Encryption(\"My name is 5\")"
   ]
  },
  {
   "cell_type": "code",
   "execution_count": 54,
   "id": "07731170",
   "metadata": {},
   "outputs": [
    {
     "data": {
      "text/plain": [
       "'My name is 5'"
      ]
     },
     "execution_count": 54,
     "metadata": {},
     "output_type": "execute_result"
    }
   ],
   "source": [
    "Decryption('Mb mznv rh 5')"
   ]
  },
  {
   "cell_type": "code",
   "execution_count": null,
   "id": "67ee19b0",
   "metadata": {},
   "outputs": [],
   "source": []
  }
 ],
 "metadata": {
  "kernelspec": {
   "display_name": "Python 3 (ipykernel)",
   "language": "python",
   "name": "python3"
  },
  "language_info": {
   "codemirror_mode": {
    "name": "ipython",
    "version": 3
   },
   "file_extension": ".py",
   "mimetype": "text/x-python",
   "name": "python",
   "nbconvert_exporter": "python",
   "pygments_lexer": "ipython3",
   "version": "3.9.7"
  }
 },
 "nbformat": 4,
 "nbformat_minor": 5
}
